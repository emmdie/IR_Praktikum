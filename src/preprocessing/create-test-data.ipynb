{
 "cells": [
  {
   "cell_type": "code",
   "execution_count": 1,
   "id": "e7c61e85",
   "metadata": {},
   "outputs": [],
   "source": [
    "import os\n",
    "import sys\n",
    "import pandas as pd\n"
   ]
  },
  {
   "cell_type": "markdown",
   "id": "0297959d",
   "metadata": {},
   "source": [
    "# Add test dataset with just articals containing\n",
    "+ Jaguar\n",
    "+ Hammer\n",
    "+ Coke\n",
    "+ Pope\n",
    "+ Comic\n",
    "+ Drink\n",
    "+ Cat\n",
    "+ Dwarf\n",
    "+ Game\n",
    "+ Texas\n",
    "\n",
    "# Add Query Dataset for all disambiguations"
   ]
  },
  {
   "cell_type": "code",
   "execution_count": 7,
   "id": "0a543397",
   "metadata": {},
   "outputs": [
    {
     "data": {
      "application/vnd.microsoft.datawrangler.viewer.v0+json": {
       "columns": [
        {
         "name": "index",
         "rawType": "int64",
         "type": "integer"
        },
        {
         "name": "d_id",
         "rawType": "object",
         "type": "string"
        },
        {
         "name": "label",
         "rawType": "object",
         "type": "string"
        },
        {
         "name": "text",
         "rawType": "object",
         "type": "string"
        }
       ],
       "conversionMethod": "pd.DataFrame",
       "ref": "d59a39ab-2c50-4d39-9c8c-c09ebf09b4e8",
       "rows": [
        [
         "0",
         "d_0000026",
         "Austin (disambiguation)",
         "Austin is the capital of Texas in the United States.\n\nAustin may also refer to:\n\nGeographical locations\n\nAustralia\n Austin, Western Australia\n\nCanada\n Austin, Manitoba\n Austin, Ontario\n Austin, Quebec\n Austin Island, Nunavut\n\nFrance\n Saint-Austin, hamlet at la Neuville-Chant-d'Oisel, Normandy\n\nUnited States\n Austin, Arkansas\n Austin, Colorado\n Austin Township, Macon County, Illinois\n Austin, Chicago, Cook County, Illinois\n Austin, Indiana\n Austin, Kentucky\n Austin, Minnesota\n Austin, Missouri\n Austin, Nevada\n Austin, Ohio\n Austin, Oregon\n Austin, Pennsylvania\n Austin, Texas\n Austin County, Texas (the city of Austin, Texas is located in Travis County)\n\nSchools\n Austin College, Sherman, Texas\n University of Texas at Austin, flagship institution of the University of Texas System\n Austin Peay State University, Clarksville, Tennessee\n\nReligion\n Augustine of Hippo\n An adjective for the Augustinians\n\nBusiness\n American Austin Car Company, short-lived American automobile maker\n Austin Automobile Company, short-lived American automobile company\n Austin Motor Company, British car manufacturer\n Austin magazine, produced for the Austin Motor Company by in-house Nuffield Press\n Austin cookies and crackers, Keebler Company brand\n\nEntertainment\n \"Austin\" (song), a single by Blake Shelton\n Austin (album), a 2023 studio album by Post Malone\n Austin, a kangaroo Beanie Baby produced by Ty, Inc.\n Austin the kangaroo from the children's television series The Backyardigans\n\nOther uses\n Austin (building), a building designed by artist Ellsworth Kelly in Austin, Texas\n Austin (given name), a short form of Augustin, or Augustine, including fictional characters\n Austin (surname)\n USS Austin, three ships\n\nSee also\n All pages beginning with Austin\n August (disambiguation)\n Augustin (disambiguation)\n Augustine (disambiguation)\n Austin station (disambiguation)\n Austins (disambiguation)\n Austen (disambiguation)\n Justice Austin (disambiguation)\n Austinburg (disambiguation)"
        ],
        [
         "1",
         "d_0000041",
         "Aberdeen (disambiguation)",
         "Aberdeen is a city in Scotland.\n\nAberdeen may also refer to:\n\nPlaces\n\nAfrica \n Aberdeen, Sierra Leone\n Aberdeen, Eastern Cape, South Africa\n\nAsia\n\nHong Kong \n Aberdeen, Hong Kong, an area and town on southwest Hong Kong Island\n Aberdeen Channel, a channel between Ap Lei Chau (Aberdeen Island) and Nam Long Shan on the Hong Kong Island in Hong Kong\n Aberdeen Country Park, a country park in Hong Kong Island\n Aberdeen floating village, at Aberdeen Harbour, containing approximately 600 junks, which house an estimated 6,000 people\n Aberdeen Harbour, a harbour between Aberdeen, Hong Kong and Ap Lei Chau (Aberdeen Island)\n Aberdeen Tunnel, a tunnel in Hong Kong Island\n Aberdeen Tunnel Underground Laboratory, an underground particle physics laboratory in Hong Kong Island\n Ap Lei Chau or Aberdeen Island, an island of Hong Kong\n Aberdeen (Hong Kong constituency), a constituency of Southern District Council\n\nIndia \n Aberdeen Bazaar, a shopping centre in Port Blair, South Andaman Island\n\nSri Lanka \n Aberdeen Falls, a waterfall in Sri Lanka\n\nAustralia \n Aberdeen, New South Wales\n Aberdeen, South Australia, one of the early townships that merged in 1940 to create the town of Burra\n Aberdeen, Tasmania, a suburb of the City of Devonport\n\nCaribbean \n Aberdeen, Jamaica, a town in Saint Elizabeth, Jamaica\n\nEurope\n Aberdeen (Parliament of Scotland constituency)\n Aberdeen (UK Parliament constituency) 1832-1885\n Aberdeen Burghs (UK Parliament constituency) 1801-1832\n Aberdeen Central (Scottish Parliament constituency)\n Aberdeen Central (UK Parliament constituency)\n Aberdeen Donside (Scottish Parliament constituency)\n County of Aberdeen, a historic county of Scotland whose county town was Aberdeen\n Old Aberdeen, a part of the city of Aberdeen in Scotland\n\nNorth America\n\nCanada \n Aberdeen, community in the township of Champlain, Prescott and Russell County, Ontario\n Aberdeen, Abbotsford, a neighbourhood in the City of Abbotsford, British Columbia\n Aberdeen Centre, a shopping mall in Richmond, British Columbia\n Aberdeen, Grey County, Ontario\n Aberdeen, Kamloops, an area in the City of Kamloops, British Columbia\n Aberdeen Lake (Nunavut), a lake in Kivalliq Region, Nunavut, Canada\n Aberdeen, Nova Scotia, part of the Municipality of Inverness County, Nova Scotia\n Aberdeen Parish, New Brunswick\n Rural Municipality of Aberdeen No. 373, Saskatchewan\n Aberdeen, Saskatchewan\n Aberdeen Bay, a bay between southern Baffin Island and north-eastern Hector Island in the Nunavut territory\n Aberdeen Township, Quebec, until 1960 part of Sheen-Esher-Aberdeen-et-Malakoff, now part of Rapides-des-Joachims, Quebec\n Aberdeen River, a tributary of rivière aux Castors Noirs in Mauricie, Québec\n New Aberdeen, Nova Scotia\n\nUnited States \n Aberdeen, Arkansas\n Aberdeen, Colorado\n Aberdeen, Florida\n Aberdeen, Georgia\n Aberdeen, Idaho\n Aberdeen, Ohio County, Indiana\n Aberdeen, Porter County, Indiana\n Aberdeen, Kentucky\n Aberdeen, Maryland\n Aberdeen Proving Ground, a United States Army facility located near Aberdeen, Maryland\n Aberdeen, Massachusetts, a neighborhood of Brighton, Boston\n Aberdeen, Mississippi\n Aberdeen Lake (Mississippi), a lake in northeast Mississippi on the Tennessee-Tombigbee Waterway, close to Aberdeen, Mississippi\n Aberdeen Township, New Jersey\n Aberdeen, North Carolina\n Aberdeen Historic District (Aberdeen, North Carolina)\n Aberdeen, Ohio\n Aberdeen, South Dakota\n Aberdeen Historic District (Aberdeen, South Dakota)\n Aberdeen, Texas\n Aberdeen (Disputanta, Virginia)\n Aberdeen Gardens (Hampton, Virginia)\n Aberdeen, Washington\n Aberdeen Gardens, Washington\n Aberdeen, West Virginia\n\nSee Also\n New Aberdeen (disambiguation)\n Aberdeen City Council, the local authority body in the city\n\nArts and entertainment \n Aberdeen (2000 film), a 2000 Norwegian-British film\n Aberdeen (2014 film), a 2014 Hong Kong film \n Aberdeen (band), an American rock band\n Aberdeen (song), by Cage The Elephant\n\nBusinesses and organisations\n\nCompanies\n Abrdn, formerly Standard Life Aberdeen\n Aberdeen Asset Management\n\nEducation \n Aberdeen Business School, Robert Gordon University, Aberdeen, Scotland\n Aberdeen College, Aberdeen, Scotland\n Aberdeen Grammar School, Aberdeen, Scotland\n Aberdeen Hall, a university-preparatory school in Kelowna, British Columbia, Canada\n Aberdeen High School (disambiguation)\n University of Aberdeen, Aberdeen, Scotland\n\nSports \n Aberdeen F.C., a Scottish professional football team\nAberdeen F.C. Women\n Aberdeen GSFP RFC, an amateur rugby union club in Aberdeen, Scotland\n Aberdeen IronBirds, a Minor League Baseball team in Aberdeen, Maryland, U.S.\n Aberdeen L.F.C., a women's football team affiliated with Aberdeen F.C.\n\nTransportation \n Aberdeen Airport (disambiguation)\n Aberdeen station (disambiguation)\n Aberdeen Line, a British shipping company founded in 1825\n Aberdeen (ship), the name of several ships\n\nSee also \n\n Aberdeen Act\n Aberdeen Angus, a Scottish breed of small beef cattle\n Aberdeen Central (disambiguation)\n Aberdeen Gardens (disambiguation)\n Aberdeen Historic District (disambiguation)\n Aberdeen Hospital (disambiguation)\n Aberdeen Quarry, a granite quarry in Colorado\n Battle of Aberdeen (disambiguation)\n Diocese of Aberdeen and Orkney, one of the seven dioceses of the Scottish Episcopal Church\n Etymology of Aberdeen\n Marquess of Aberdeen and Temair, a title in the Peerage of the United Kingdom"
        ],
        [
         "2",
         "d_0000055",
         "Argument (disambiguation)",
         "In logic and philosophy, an argument is an attempt to persuade someone of something, or give evidence or reasons for accepting a particular conclusion.\n\nArgument may also refer to:\n\nMathematics and computer science\nArgument (complex analysis), a function which returns the polar angle of a complex number\nCommand-line argument, an item of information provided to a program when it is started\nParameter (computer programming), a piece of data provided as input to a subroutine\nArgument principle, a theorem in complex analysis \nAn argument of a function, also known as an independent variable\n\nLanguage and rhetoric\nArgument (literature), a brief summary, often in prose, of a poem or section of a poem or other work\nArgument (linguistics), a phrase that appears in a syntactic relationship with the verb in a clause\nOral argument in the United States, a spoken presentation to a judge or appellate court by a lawyer (or parties when representing themselves) of the legal reasons why they should prevail\nClosing argument, in law, the concluding statement of each party's counsel reiterating the important arguments in a court case\n\nOther uses\nMusical argument, a concept in the theory of musical form\nArgument (ship), an Australian sloop wrecked in 1809\nDas Argument, a German academic journal\nArgument Clinic, a Monty Python sketch\nA disagreement between two or more parties or the discussion of the disagreement\nArgument (horse)\n\nSee also\n\nThe Argument (disambiguation)\nargumentation"
        ],
        [
         "3",
         "d_0000068",
         "Animal (disambiguation)",
         "An animal is a multicellular, eukaryotic organism of the kingdom Animalia or Metazoa.\n\nAnimal, Animals, or The Animal may also refer to:\n\nPeople\n The Animal (nickname), a list of people nicknamed \"The Animal\" or \"Animal\"\n Animal Hamaguchi, a ring name of Japanese retired professional wrestler Heigo Hamaguchi (born 1947)\n Road Warrior Animal or Animal, ring names of American professional wrestler Joseph Michael Laurinaitis (1960–2020)\n\nBooks and publications\n Animal (book), full title Animal: The Definitive Visual Guide to The World's WildLife\n Animal, 2012 novel by K'wan Foye\n Animal (journal), full title: Animal: An International Journal of Animal Bioscience\nAnimals (novel), a 2014 novel by Emma Jane Unsworth\n\nFilm and television\n\nFilms\n Animal (1977 film), a French film (L'Animal) starring Jean-Paul Belmondo and Raquel Welch\n Animals (1998 film), an American film starring Tim Roth and Rod Steiger\n Animal (2001 film), an Argentine comedy film by Sergio Bizzio with Carlos Roffé\n Animal (2005 film), an American direct-to-video action drama film starring Ving Rhames and Terrance Howard\n Animal (2014 film), an American horror film starring Keke Palmer\n Animal (2018 film), an Argentine film\n Animals (2003 film), a stand-up show written and performed by Ricky Gervais\n Animals (2012 film), a Spanish film\n Animals (2014 film), a British drama film written by and starring David Dastmalchian\n Animals (2017 film), a German film\n Animals (2019 film), an Australian film\n Animals (2021 film), a psychological thriller film\n The Animal, a 2001 American comedy film featuring Rob Schneider\n The Animals (film), a 2012 Filipino coming-of-age film by Gino M. Santos\n Animal (2023 film), a 2023 Indian Hindi language action thriller film\n\nTelevision\n Animal (TV series), an American nature documentary series\n Animals (American TV series), a 2016–2018 animated series\n Animals (South Korean TV series), a 2015 reality-variety show\n \"Animals\" (The Goodies), a 1980 episode\n \"Animals\" (Men Behaving Badly), a 1992 episode\n \"Animals\" (Off the Air), a 2011 episode\n \"Animals\" (The Vicar of Dibley), a 1994 episode\n \"The Animals\" (Orange Is the New Black), a 2016 episode\n Animal (audio drama), a 2011 audio drama based on Doctor Who\n\nCharacters\n Animal (Muppet), a character from the television series The Muppet Show\n Animal, a character in the television series Takeshi's Castle\n Animal, played by Ken Hudson Campbell, a character on the TV sitcom Herman's Head\n Dennis \"Animal\" Price, a character on the TV series Lou Grant\n\nMusic\n The Animals, a British rock band\n A.N.I.M.A.L., an Argentine heavy metal band\n Animal (Nick Culmer) lead singer of the Anti-Nowhere League\n\nAlbums\n Animal (Animosity album), 2007\n Animal (Bar-Kays album), 1989\n Animal (Big Scary album), 2016\n Animal (Kesha album), 2010\n Animal (Lump album), 2021\n Animal (María Becerra album), 2021\n Animal (Motor Ace album), 2005\n Animals (Pink Floyd album), 1977\n Animals (This Town Needs Guns album), 2008\n The Animals (American album), by the Animals, 1964\n The Animals (British album), by the Animals, 1964\n Animal, a 2009 album by AutoKratz\n Animal, a 2013 album by Berlin\n Animal, a 2008 album by Far East Movement\n Animal!, a 2008 album by Margot & the Nuclear So and So's\n\nEPs\n Animals (EP) by Ryan Starx, 2013\n Animal, a 2015 EP by Hidden in Plain View\n A.N.I.M.A.L, a 2019 EP by John Newman\n\nSongs\n\n\"Animal\"\n\"Animal\" (Álvaro Soler song), 2017\n\"Animal\" (Conor Maynard song), 2013\n\"Animal\" (Def Leppard song), 1987\n\"Animal\" (Jebediah song), 1999\n\"Animal\" (Juvenile song), 2006\n\"Animal\" (María Becerra and Cazzu song), 2022\n\"Animal\" (Miike Snow song), 2009\n\"Animal\" (Neon Trees song), 2010\n\"Animal\" (Pearl Jam song), 1994\n\"Animal\" (R.E.M. song), 2004\n\"Animal\" (R.I.O. song), 2011\n\"Animal\" (Trey Songz song), 2017\n\"Animal\" (Troye Sivan song), 2018\n\"Animal\", by Against Me! from New Wave\n\"Animal\", by Ani DiFranco from Educated Guess\n\"Animal\", by Anti-Nowhere League from We Are...The League, 1982\n\"Animal\", by Aurora from A Different Kind of Human (Step 2)\n\"Animal\", by Black Light Burns from Cruel Melody\n\"Animal\", by Ellie Goulding from Lights\n\"Animal\", by Karen O and the Kids from Where the Wild Things Are\n\"Animal\", by Kat DeLuna from 9 Lives\n\"Animal\", by Kesha from Animal\n\"Animal\", by Mabel from About Last Night..., 2022\n\"Animal\", by the Men from Open Your Heart, 2012\n\"Animal\", by Mindless Self Indulgence from If\n\"Animal\", by Mudmen from Overrated\n\"Animal\", by Nada Surf from You Know Who You Are, 2016\n\"Animal\", by Subhumans from Demolition War\n\"Animal\", by Sunhouse from Crazy On The Weekend\n\"Animal\", by The Kinks from To the Bone\n\"Animal\", by Toto from Past to Present 1977–1990\n\"Animal (F**k Like a Beast)\", by W.A.S.P., 1984\n\n\"Animals\"\n\"Animals\" (Architects song), 2020\n\"Animals\" (Kevin Ayers song), 1980\n\"Animals\" (Maroon 5 song), 2014\n\"Animals\" (Martin Garrix song), 2013\n\"Animals\" (Muse song), 2012\n \"Animals\" (Nickelback song), 2005\n \"Animals\", by CocoRosie from The Adventures of Ghosthorse and Stillborn\n\"Animals\", by Coldplay as one of the B-sides for \"Clocks\"\n\"Animals\", by Dead Poetic from Vices\n\"Animals\", by Talking Heads from Fear of Music\n\"Animals\", by The End from Elementary\n\"Animals\", by Todrick Hall featuring Matt Bloyd from Forbidden\n\n\"The Animal\"\n\"The Animal\" (Disturbed song), 2010\n\"The Animal\", by Steve Vai from Passion and Warfare\n\nOther uses\n ANIMAL (computer worm), an early self-replicating computer program\n ANIMAL (image processing), an interactive software environment for image processing\n Operation Animals, a World War II Allied deception operation in Greece\n Animals (Israeli organization),  an animal rights group based in Israel\n\nSee also\n Animals, Animals, Animals, an American educational television series (1976–1981)"
        ],
        [
         "4",
         "d_0000076",
         "Asia Minor (disambiguation)",
         "Asia Minor is an alternative name for Anatolia, the westernmost protrusion of Asia, comprising the majority of the Republic of Turkey.\n\nAsia Minor may also refer to:\n\n Asia Minor (album), an album by Jamaican-born jazz trumpeter Dizzy Reece\n \"Asia Minor\" (instrumental), a 1961 instrumental recording by Jimmy Wisner (operating under the name Kokomo)\n\nSee also\n Asia Major (disambiguation)"
        ],
        [
         "5",
         "d_0000108",
         "Atlas (disambiguation)",
         "An atlas is a collection of maps.\n\nAtlas may also refer to:\n\nMythology\n Atlas (mythology), an Ancient Greek Titanic deity\n Atlas, the first legendary king of Atlantis\n Atlas of Mauretania, a legendary king\n\nPlaces\n\nUnited States\n Atlas, California\n Atlas, Illinois\n Atlas, Texas\n Atlas, West Virginia\n Atlas, Wisconsin\n Atlas District, in Washington, D.C.\n Atlas Peak AVA, a California wine region\n Atlas Township, Michigan\n\nOther places\n Atlas Cinema, a historic movie theatre in Istanbul, Turkey\n Atlas Mountains, a set of mountain ranges in northwestern Africa\n Atlas, Nilüfer, a village in Bursa Province, Turkey\n\nPeople with the name\n Atlas (given name)\n Atlas (graffiti artist) \n Atlas DaBone, American wrestler and football player\n Charles Atlas (1892–1972), Italian-American bodybuilder\n Charles Atlas (artist)\n David Atlas (born 1924), American meteorologist\n James Atlas (1949-2019), American writer, editor and publisher\n Meir Atlas (1848–1926), Lithuanian rabbi\n Natacha Atlas (born 1964), Belgian singer\n Nava Atlas, American book artist and author\n Omar Atlas (born 1938), former Venezuelan professional wrestler\n Scott Atlas (born 1955), American conservative health care policy advisor\n Teddy Atlas (born 1956), American boxing trainer and commentator\n Tony Atlas (born 1954), American wrestler and bodybuilder\n\nArts, entertainment, and media\n\nComics\n Atlas (comic book series), by Dylan Horrocks\n Agents of Atlas, a Marvel Comics mini-series\n Atlas Comics (1950s), a publisher\n Atlas/Seaboard Comics, a 1970s line of comics\n\nFictional characters\n Atlas (DC Comics), any of several fictional characters\n Atlas (Teen Titans)\n Atlas, an Astro Boy (1980) character\n Atlas (BioShock)\n Atlas, a BattleMech in the BattleTech universe\n Atlas, an antagonist in Mega Man ZX Advent\n Atlas, a Portal 2 character\n Atlas, a PS238 character\n Erik Josten, a.k.a. Atlas, a Marvel Comics supervillain\n The Atlas, a strong driving force from No Man's Sky\n\nLiterature\n Atlas, a photography book by Gerhard Richter\n ATLAS of Finite Groups, a group theory book\n Atlas Shrugged, a novel by Ayn Rand\n The Atlas (novel), by William T. Vollmann\n\nMusic\n\nGroups\n Atlas (band), a New Zealand rock band\n Atlas Sound, the solo musical project of Deerhunter lead singer and guitarist Bradford Cox\n\nMusicians\n Black Atlass, a Canadian musician\n\nAlbums\n Atlas (Kinky album)\n Atlas (Laurel Halo album)\n Atlas (Parkway Drive album)\n Atlas (Real Estate album)\n Atlas (RÜFÜS album)\n Atlas, by The Score, 2017\n\nOperas\n Atlas (opera), 1991, by Meredith Monk\nAtlas: An Opera in Three Parts, a 1993 recording of Monk's opera\n\nSongs\n \"Atlas\" (Battles song), 2007\n \"Atlas\" (Bicep song), 2020\n \"Atlas\" (Coldplay song), 2013\n\"Atlas\", a song by Caligula's Horse from the album The Tide, the Thief & River's End\n \"Atlas\", by Parkway Drive\n \"Atlas\", a song by Man Overboard from Man Overboard\n \"Atlas\", a song by Jake Chudnow, used as the main theme in the YouTube series Mind Field\n “Atlas”, a song by Coheed and Cambria\n\nPeriodicals\n Atlas (magazine)\n The Atlas (newspaper), published in England from 1826 to 1869\n\nOther uses in arts, entertainment, and media\n Atlas (1961 film), an action-adventure film\n Atlas (upcoming film), an upcoming American science fiction thriller film\n Atlas (statue), iconic statue by Lee Lawrie in Rockefeller Center\n Atlas, a book about flora and/or fauna of a region, such as atlases of the flora and fauna of Britain and Ireland\n Atlas Entertainment, a film production company\n Atlas folio, a book size\n Atlas Media Corp., a non-fiction entertainment company\n Atlas Press, a UK publisher\n RTV Atlas, a broadcaster in Montenegro\n The Atlas (video game), a 1991 multiplatform strategy video game\n Atlas (video game), a massively-multiplayer online video game released for early access in 2018\n Atlas Corporation, a fictional arms manufacturer in the video game series Borderlands\n Atlas Corporation, a fictional private military company in the game Call of Duty: Advanced Warfare\n\nBrands and enterprises\n Atlas (appliance company), in Belarus\n Atlas (restaurant), a Michelin-starred restaurant in Atlanta\n Atlas Consortium, a group of technology companies\n Atlas Copco, a Swedish company founded in 1873\n Atlas Corporation, an investment company\n Atlas Elektronik, a German naval/marine electronics and systems business\n Atlas Group, a Pakistani business group\n Atlas Mara Limited, formerly Atlas Mara Co-Nvest Limited, a financial holding company that owns banks in Africa\n Atlas Model Railroad, American maker of model trains and accessories\n Atlas Network, formerly Atlas Economic Research Foundation\n Atlas Press (tool company)\n Atlas Solutions, an online advertising subsidiary of Meta Platforms\n Atlas Van Lines, a moving company\n Atlas-Imperial, an American diesel engine manufacturer\n Dresser Atlas, a provider of oilfield and factory automation services\n Tele Atlas, a Dutch mapping company\n Western Atlas, an oilfield services company\n Atlas Powder Company, American explosives and chemicals company\n\nComputing and technology\n Atlas (computer), a 1960s supercomputer\n Atlas Supervisor, its operating system\n Atlas (robot)\n ATLAS (software), a tool to scan American citizenship records for candidates for denaturalization\n Atlas, a computer used at the Lawrence Livermore National Laboratory in 2006\n Abbreviated Test Language for All Systems (ATLAS), a computer language for equipment testing\n Advanced Technology Leisure Application Simulator (ATLAS), a hydraulic motion simulator used in theme parks\n ASP.NET AJAX (formerly \"Atlas\"), a set of ASP.NET extensions\n ATLAS Transformation Language, a programming language for model transformation\n Atlas.ti, a qualitative analysis program\n Automatically Tuned Linear Algebra Software (ATLAS)\n Texture atlas, in computer graphics, a large image containing multiple smaller images\n UNIVAC 1101, a 1950s American computer\n\nScience\n\nAstronomy\n Atlas (comet) (C/2019 Y4)\n Atlas (crater), on the near side of the Moon\n Atlas (moon), a satellite of Saturn\n Atlas (star), a triple star system in the constellation of Taurus and a member of the Pleiades\n Advanced Topographic Laser Altimeter System (ATLAS), a space-based lidar instrument on ICESat-2\n Asteroid Terrestrial-impact Last Alert System (ATLAS)\n\nMathematics\n Atlas (topology), a set of charts\n A set of charts which covers a manifold\n A smooth structure, a maximal smooth atlas for a topological manifold\n\nPhysics\n Argonne Tandem Linear Accelerator System (ATLAS), at the Argonne National Laboratory\n ATLAS experiment, a particle detector for the Large Hadron Collider at CERN\n Atomic-terrace low-angle shadowing (ATLAS), a nanofabrication technique\n\nBiology and healthcare\n Atlas (anatomy), part of the cervical spine\n Atlas personality, the personality of someone whose childhood was characterized by excessive responsibilities\n Brain atlas, a neuroanatomical map of the brain of a human or other animal\n\nAnimals and plants\n Atlas bear\n Atlas beetle\n Atlas cedar\n Atlas moth\n Atlas pied flycatcher, a bird\n Atlas turtle\n\nSport\n Atlas Delmenhorst, a German association football club\n Atlas F.C., a Mexican professional football club\n Club Atlético Atlas, an Argentine amateur football club\n KK Atlas, a former Serbian men's professional basketball club\n\nTransport\n\nAerospace\n Atlas (rocket family)\n SM-65 Atlas intercontinental ballistic missile (ICBM)\n AeroVelo Atlas, a human-powered helicopter\n Airbus A400M Atlas, a military aircraft produced from 2007–present\n Armstrong Whitworth Atlas, a British military aeroplane produced 1927–1933\n Atlas Air, an American cargo airline\n Atlas Aircraft, a 1940s aircraft manufacturer\n Atlas Aircraft Corporation, a South African military aircraft manufacturer\n Atlas Aviation, an aircraft maintenance firm\n Atlas Blue, a Moroccan low-cost airline\n Atlasjet, a Turkish airline\n Birdman Atlas, an ultralight aircraft\n HMLAT-303, U.S. Marine Corps helicopter training squadron\n La Mouette Atlas, a French hang glider design\n\nAutomotive\n Atlas (1951 automobile), a French mini-car\n Atlas (light trucks), a Greek motor vehicle manufacturer\n Atlas (Pittsburgh automobile), produced 1906–1907\n Atlas (Springfield automobile), produced 1907–1913\n Atlas, a British van by the Standard Motor Company produced 1958–1962\n Atlas Drop Forge Company, a parts subsidiary of REO Motor Car Company\n Atlas Motor Buggy, an American highwheeler produced in 1909\n General Motors Atlas engine\n Honda Atlas Cars Pakistan, a car manufacturer\n Nissan Atlas, a Japanese light truck\n Volkswagen Atlas, a sport utility vehicle\nGeely Atlas, a sport utility vehicle\n\nShips and boats\n Atlas Werke, a defunct German shipbuilding company\n Atlas (ship), any of several merchant ships\n French ship Atlas, any of several French Navy ships\n HMS Atlas, any of several Royal Navy ships\n ST Atlas, a Swedish tugboat\n USS Atlas, any of several U.S. Navy ships\n\nTrains\n Atlas, an 1863–1885 South Devon Railway Dido class locomotive\n Atlas, a 1927–1962 LMS Royal Scot Class locomotive\n Atlas Car and Manufacturing Company, a locomotive manufacturer\n Atlas Model Railroad\n\nOther uses\n Atlas (architecture)\n ATLAS (simulation) (Army Tactical Level Advanced Simulation), a Thai military system\n Atlas (storm), which hit the Midwestern United States in October 2013, named by The Weather Channel\n Agrupación de Trabajadores Latinoamericanos Sindicalistas (ATLAS), a 1950s Latin American trade union confederation\n Atlas languages, Berber languages spoken in the Atlas Mountains of Morocco\n ATLAS Network, a network of European special police units\n Atlas Uranium Mill\n Atlas Corporation, a private military company by Call of Duty: Advanced Warfare\n\nSee also\n Advanced Technology Large-Aperture Space Telescope (ATLAST)\n \n Altas (disambiguation)\n Atlant (disambiguation) ()"
        ],
        [
         "6",
         "d_0000275",
         "Atlantic (disambiguation)",
         "The Atlantic Ocean is the second largest of the world's oceans, that separates the old world from the new world.\n\nAtlantic may also refer to:\n\nPlaces\n\nIn Canada\n Atlantic, Nova Scotia\n Atlantic Canada\n\nIn the United States\n Atlantic, Iowa\n Atlantic, Massachusetts\n Atlantic, North Carolina, an unincorporated community in eastern Carteret County\n Atlantic, Pennsylvania\n Atlantic, Seattle, a neighborhood in Washington state\n Atlantic, Virginia\n Atlantic City, New Jersey\n Atlantic County, New Jersey\n Atlantic Peak (Colorado), a mountain\n\nArt, entertainment, and media\n\nCompanies and labels\n Atlantic Books, an independent British publishing house\n Atlantic Monthly Press, an American publishing house\n Atlantic Entertainment Group, a defunct movie studio company\n Atlantic FM, a former radio station serving Cornwall, United Kingdom\n Atlantic Records, a record company\n\nMusic\n The Atlantics, an Australian surf rock band formed in the early 1960s\n\nAlbums\n Atlantic (Dufresne album)\n Atlantic (Theatre album)\n\nSongs\n \"Atlantic\" (song), by Keane\n \"Atlantic\", a song by Björk from Vessel (DVD)\n \"Atlantic\", a song by Thrice from Vheissu\n\nOther art, entertainment, and media\n Atlantic (film), a 1929 black and white British film\nThe Atlantic, an American magazine founded as The Atlantic Monthly in 1857\n Atlantic., a 2014 Dutch film\n Atlantic (2015 film), an Irish documentary film, awarded Best Irish Documentary at the 2016 Dublin International Film Festival\n\nEnterprises and organizations\n Atlantic (cinema), a movie theater in Warsaw, Poland\n Atlantic (toy company), a defunct Italian toy manufacturer\n Atlantic (supermarkets), a defunct supermarket chain in Greece\n Atlantic Broadband, a cable company in Massachusetts\nAtlantic City Electric, a division of Elexon supplying electricity in New Jersey\n Atlantic LNG, a liquefied natural gas producing company based in Trinidad and Tobago\nAtlantic Petroleum, a former oil company in the United States\n Atlantic Petroleum (Faroe Islands), an oil and gas production company\n Atlantic Philanthropies, a defunct private foundation\n Atlantic Superstore, a Canadian supermarket chain\n Atlantic Technological University, north-western Ireland \n Atlantic University, Virginia Beach, Virginia\n Groupe Atlantic, a French climate control engineering company\n\nSports\n Atlantic Championship, developmental open-wheel racing series in North America\n Atlantic League of Professional Baseball, an American professional baseball league\n\nStructures\n Atlantic Building or Edificio Atlantic, a condominium building in Havana, Cuba\n The Atlantic (Atlanta), a skyscraper in Atlanta, Georgia, United States\n\nTransportation\n\nAirlines\n Air Atlantic, a Canadian airline\n Atlantic Airways, a Faroese airline company\n\nAircraft\n Breguet Atlantic, a French long-range maritime patrol aircraft (1961)\n\nMotor vehicles\n Atlantic (1921 automobile), a defunct automobile company\n Austin Atlantic, a British car produced by the Austin Motor Company from 1949 to 1952\n Fisker Atlantic, a 2012 plug-in electric concept car\n\nRailroads and trains\n Atlantic (locomotive), name of an early steam-powered locomotive of the Baltimore and Ohio Railroad\n Atlantic station (Los Angeles Metro)\n Atlantic station (Staten Island Railway)\n Atlantic (train), a named passenger train operated by Canadian Pacific Railway and later Via Rail\n Atlantic, a type of steam locomotive with a 4-4-2 wheel arrangement (UIC classification 2B1)\n\nShips\n , any one of several vessels by that name\n Atlantic (yacht), a three-masted gaff-rigged schooner\n Atlantic 85-class lifeboats, lifeboats that serve the shores of the United Kingdom and Ireland as a part of the RNLI inshore fleet\n\nOther uses\n Atlantic (period) of palaeoclimatology\n Atlantic languages (formerly West Atlantic), a language family in West Africa\n Atlantic (horse), British-bred Thoroughbred racehorse of the 1870s\n\nSee also\n\n \n Atlantik (disambiguation)\n Atlantique (disambiguation)\n Atlantic Beach (disambiguation)\n Atlantic Bridge (disambiguation)\n Atlantic City (disambiguation)"
        ],
        [
         "7",
         "d_0000294",
         "Athene (disambiguation)",
         "Athene or Athena is the shrewd companion of heroes and the goddess of heroic endeavour in Greek mythology.\n\nAthene may also refer to:\n881 Athene, a main-belt asteroid\nAthene (bird), a genus of small owls\nAthene (Cynuria), a town in ancient Cynuria, Greece\nAthene Glacier, a glacier in Antarctica\nHMS Athene, an aircraft transport\nUSS Athene (AKA-22), an Artemis-class attack cargo ship\nBachir Boumaaza or Athene (born  1980), Belgian YouTube personality and social activist\nAthene (research center), stylized as ATHENE, an IT security research institute in Darmstadt, Germany\nAthene, an insurance company acquired by Apollo Global Management\n\nPeople with the given name\nAthene Seyler (1889–1990), English actress\nAthene Donald (born 1953), British physicist\n\nSee also\nAltena (disambiguation)\nAtena (disambiguation)\nAthen (disambiguation)\nAthena (disambiguation)\nAthens (disambiguation)"
        ],
        [
         "8",
         "d_0000396",
         "ASIC (disambiguation)",
         "In the realm of electronic technology, ASIC stands for application-specific integrated circuit, an integrated circuit customized for a specific task.\n\nASIC may also refer to:\n Accreditation Service for International Colleges, an educational accreditation agency in the UK\n Acid-sensing ion channels, a protein family\n Air and Space Interoperability Council , former name of the Air Force Interoperability Council\n Arfoire Syndicate of International Crime, the antagonist group in the video game Hyperdimension Neptunia mk2\n ASIC programming language, a dialect of BASIC\n Associated Signature Containers (ASiC), specifies the use of container structures to bind together one or more signed objects with either advanced electronic signatures or time-stamp tokens into one single digital container\n Association Scientifique Internationale pour le Café, a scientific organization based in France\n Australian Securities & Investments Commission, Australia's corporate regulator\n Aviation Security Identification Card, an Australian identification card\n\nSee also\n Asics, an athletic equipment company"
        ],
        [
         "9",
         "d_0000447",
         "Lory (disambiguation)",
         "A Lory is a small to medium-sized arboreal parrot.\n\nLory may also refer to:\n\nPeople\n Al De Lory (1930–2012), an American record producer, arranger, conductor and session musician\n Donna De Lory (born 1964), an American singer, dancer and songwriter\n Milo B. Lory (1903–1974), an American sound editor\n\nOther uses\n Lory, a fictional parrot, a minor character in the Alice series by Lewis Carroll\nLory Lake, in Minnesota, U.S.\nLory State Park, near Fort Collins, Colorado, U.S.\n\nSee also\n\nLorry (disambiguation)\nLori (disambiguation)\nLoris (disambiguation)\nLoris, strepsirrhine primates"
        ],
        [
         "10",
         "d_0000467",
         "Adder (disambiguation)",
         "Vipera berus, the common European adder, is a snake found in Europe and northern Asia.\n\nAdder may also refer to:\n\n AA-12 Adder, a Russian air-to-air missile\n Adder (electronics), an electronic circuit designed to do addition\n Adder Technology, a manufacturing company\n Armstrong Siddeley Adder, a late 1940s British turbojet engine\n Blackadder, a series of BBC sitcoms\n Golden Axe: The Revenge of Death Adder, a video game\n HMS Adder, any of seven ships of the Royal Navy\n Any of several groups of venomous snakes\n USS Adder, a US submarine\n\nSee also \n Addition, a mathematical operation"
        ],
        [
         "11",
         "d_0000515",
         "Alexander of Greece (disambiguation)",
         "Alexander of Greece (1893–1920) was king of Greece from 1917 until his death.\n\nAlexander of Greece may also refer to:\n Alexander of Greece (rhetorician) ()\n Alexander the Great (356–323 BC), ancient Greek king and general\n\nSee also\n Alexander § People with the given name Alexander"
        ],
        [
         "12",
         "d_0000711",
         "Antwerp (disambiguation)",
         "Antwerp is a city in Belgium and capital of the Antwerp province.\n\nAntwerp may also refer to:\n\nIn Belgium\n Antwerp (district)\n Antwerp (province)\n\nIn the United States\n Antwerp, Ohio\n Antwerp Township, Michigan\n Antwerp, New York\n Antwerp (village), New York\n\nIn Australia\nAntwerp, Victoria\n\nOther \nPort of Antwerp\nRoyal Antwerp FC, a football club\nAntwerp (novel), by Roberto Bolaño\nAntwerp, a poem by Ford Madox Ford\n\nSee also"
        ],
        [
         "13",
         "d_0000721",
         "Atmosphere (disambiguation)",
         "An atmosphere is a gas layer around a celestial body.\n\nAtmosphere may also refer to:\n\nScience\n Atmosphere (unit), a unit of pressure\n Atmosphere of Earth\n Extraterrestrial atmospheres\n Stellar atmosphere\n\nArts, entertainment, and media\n\nMusic\n\nGroups\n Atmosphere (music group), an American hip-hop duo from Minnesota\n Atmosphere (Polish band)\n\nAlbums\n Atmosphere (Atmosphere album) (1997)\n Atmosphere (Eloy Fritsch album) (2003)\n Atmosphere (Kaskade album) (2013), or the title song\n Atmosphere (Sevenglory album) (2007)\n Atmosphere, a 1969 album by Colours, produced by Dan Moore and Richard Delvy\n Atmospheres (album) (2014)\n\nSongs and orchestral pieces\n \"Atmosphere\" (Drax Project song) (2023)\n \"Atmosphere\" (Joy Division song) (1980)\n \"Atmosphere\" (Kaskade song) (2013)\n \"Atmosphere\" (1975), from Let's Take It to the Stage by Funkadelic\n \"Atmosphere\" (2001), from Singularity by Joe Morris\n \"Atmosphere\" (1984), by Russ Abbot\n Atmosphères (1961), an orchestral piece by György Ligeti\n\nPeriodicals\n Atmosphere (journal), an open access scientific journal\n Atmosphere (magazine), the inflight magazine of Air Transat\n\nOther uses in arts, entertainment, and media\n Atmospheres (TV series)\n Atmospheric theatre, a type of cinema architecture\n Atmosphere, another term for a film extra\n Atmosphere (literature), a literary term referring to the mood surrounding a story\n Atmosphere (service),  a video on-demand service that provides content in a business-to-business capacity\n\nOther uses\n Atmosphere (architecture and spatial design)\n Atmosphere (Kolkata), a residential superstructure in India\n Adobe Atmosphere, a computer graphics platform\n Atmosphere Visual Effects, a Canadian company\n\nSee also\n Atmosfear (disambiguation)"
        ],
        [
         "14",
         "d_0000763",
         "ASL (disambiguation)",
         "ASL is a common initialism for American Sign Language, the sign language of the United States and Canada (not be confused with Auslan, also called ASL or Asilulu language which has the ISO code ASL), and may also refer to:\n\nCulture\n\nSport \n American Soccer League (disambiguation)\n Australia's Surfing Life, surf magazine\n African Super League, a future CAF club competition \n Axpo Super League, former name of the Swiss Super League\n\nOther uses \n A Static Lullaby, American post-hardcore band\n Advanced Squad Leader, a tactical board wargame\n A shorted version of the following slang terms:\n age/sex/location, internet slang\n As hell, slang popular amongst members of Generation Z\n Average shot length, in film editing\n AfreecaTV StarCraft League, a video game tournament series\n\nScience and technology\n\nAviation\n Aeronautical Syndicate Ltd, British aeroplane manufacturer.\n Air Serbia, ICAO airline code\n ASL Airlines Ireland, cargo airline\n\nBiology and medicine \n American Society of Lymphology, former name of the Lymphology Association of North America\n Argininosuccinate lyase, an enzyme\n Arterial spin labelling, a perfusion MRI technique\n\nComputing \n ACPI Source Language, for ACPI tables\n Adobe Source Libraries, open-source GUI software libraries\n Advanced Simulation Library, open-source hardware-accelerated multiphysics simulation software\n AMPL Solver Library, an open-source automatic differentiation library\n Apache Software License, an open-source license for software\n Application Services Library, a process model for the maintenance of software applications\n Arithmetic shift left, an operation implementing an arithmetic shift\n\nOther uses \n Above sea level, an altitude measurement\n Association for Symbolic Logic, of specialists in mathematical logic and philosophical logic\n Automated side loader, type of garbage collection truck\nAtmospheric Sciences Laboratory, a research institution formerly under the U.S. Army Materiel Command\n\nSociety\n\nEducation \n The American School in London\n Appalachian School of Law, Grundy, Virginia\n Art Students' League of Philadelphia\n\nOther uses \n Anti-Saloon League, an organization of temperance movements that lobbied for prohibition in the United States.\nAdvanced stop line, a road marking at junctions\n Artists' Suffrage League, UK\n Autobacs Sportscar Laboratory, of Autobacs Seven, Japan\n Ansar al-Sharia in Libya, a Salafist Islamist militia group\n Animelo Summer Live, a Japanese music festival"
        ],
        [
         "15",
         "d_0000831",
         "Abyssinia (disambiguation)",
         "Abyssinia is a historical name for the Ethiopian Empire.\n\nAbyssinia may also refer to:\n\nArts and media \nAbyssinia, a theatrical show by Bert Williams\n Abyssinia (musical), a show first staged in 1987\n Abyssinia (1906 musical), 1906 Broadway musical by Will Marion Cook, Bert Williams, Jesse A. Shipp, and Alex Rogers\n \"Abyssinia\", a song by the Patti Smith Group on Radio Ethiopia\nAbyssinia, a 2003 novel by Ursula Dubosarsky\n \"Abyssinia, Henry\", an episode of the television series M*A*S*H\n\nLanguages\nAbyssinian languages, family of languages spoken in Ethiopia, Eritrea, and Sudan\n\nPeople\nAbyssinian peoples, ethnic or pan-ethnic identifier used to refer to Ethiopians and Eritreans\n\nPlaces \n Abyssinia Lines, a neighbourhood of Jamshed Town in Karachi, Sindh, Pakistan\n Apostolic Vicariate of Abyssinia, the former Eastern Catholic missionary\n\nVessels \n HMS Abyssinia (1870), a British armoured ship\n SS Abyssinia, an 1870 Canadian Pacific steamship\n\nOther uses \n Abyssinia (battle honour)\n Abyssinia Creek, The Pilbara, Western Australia\n\nSee also \n \n Abyssinian (disambiguation)\n Habash (disambiguation)\n Habishi (disambiguation)\n History of Ethiopia"
        ],
        [
         "16",
         "d_0000834",
         "Arene (disambiguation)",
         "An Arene, or aromatic hydrocarbon, is a hydrocarbon with alternating double and single bonds between carbon atoms forming rings.\n\nArene may also refer to:\n\n Arene (gastropod), a genus of marine snails in the family Areneidae\n Arene (mythology), the wife of Aphareus and mother of Idas and Lynceus in Greek mythology\n Arene, Elis, an ancient town in Elis, Greece, also known as Samiko\n Jean Arènes (1898–1960), French botanist who described many new species of the genus Dombeya\n Paul Arène (1843–1896), Provençal poet and French writer\n\nSee also\n Arena (disambiguation)"
        ],
        [
         "17",
         "d_0000879",
         "Anglo-Saxon (disambiguation)",
         "Anglo-Saxons were Germanic tribes that settled in Britain and founded England.\n\nAnglo-Saxon may also refer to:\n\n Anglo-Saxon (anthropology) or Nordic race, outdated racial concept\n Anglo-Saxon England, the history of Anglo-Saxons\n Anglo-Saxon model, modern macroeconomic term\n Anglo-Saxon world, modern societies based on or influenced by English customs\n Old English or Anglo-Saxon, the earliest historical form of the English language\n , one of several ships\n White Anglo-Saxon Protestant, sociological term in the U.S.\n Anglo-Saxons (slur), a derogatory term for English-speaking countries used in Russian propaganda\n CSS Anglo-Saxon, a Confederate warship\n\nSee also\n \n Anglo (disambiguation), a prefix\n Saxon (disambiguation)"
        ],
        [
         "18",
         "d_0000934",
         "AD (disambiguation)",
         "AD (Anno Domini) is a designation used to label years following 1 BC in the Julian and Gregorian calendars while Ad (advertisement) is a form of marketing communication.\n\nAD, A.D. or Ad may also refer to:\n\nArt, entertainment, and media\n\nFilm and television\n A.D. (film), a 2010 animated zombie horror film\n A.D. (miniseries), a 1985 television miniseries set in ancient Rome\n A.D. The Bible Continues, a 2015 biblical drama television miniseries\n Arrested Development, an American television sitcom\n Attarintiki Daredi, 2013 Indian film by Trivikram Srinivas\n Audio description, a service for visually impaired audience on some TV programs\n\nMusic\n AD (band), a Christian rock band\n A.D. (album), by Solace\n\nPublications\n A.D.: New Orleans After the Deluge, a nonfiction graphic novel about Hurricane Katrina\n Algemeen Dagblad, a Dutch newspaper\n Architectural Digest, an interior design and landscaping magazine\n AD (poem), by Kenneth Fearing\n\nOther art, entertainment, and media\n Audio description track, a narration track for visually impaired consumers of visual media\n\nBrands and enterprises \n Alexander Dennis, a British bus manufacturer\n Akcionersko društvo (aкционерско друштво), a Macedonian name for a type of company\n Aktsionerno drujestvo (акционерно дружество), a Bulgarian name for a type of company\n akcionarsko društvo (aкционарско друштво), a Serbian name for a type of company \n Analog Devices, a semiconductor company\n\nMilitary \n Accidental discharge, a mechanical failure of a firearm causing it to fire\n Active duty, a status of full duty or service, usually in the armed forces\n Air defense, anti-aircraft weaponry and systems\n Air Department, part of the British Admiralty\nDestroyer tender, a type of support ship (US Navy hull classification symbol AD)\n AD Skyraider, former name of the Douglas A-1 Skyraider, a Navy attack aircraft\n\nOrganizations\n Action Directe, French far-left militant group\n Democratic Action (Venezuela) (Spanish: Acción Democrática), social democratic and center-left political party\n Democratic Alliance (Portugal) (Portuguese: Aliança Democrática), a former centre-right political alliance\n Democratic Alternative (Malta) (Maltese: Alternattiva Demokratika), a green political party\n\nPeople \n Ad (name), a given name, and a list of people with the name\n ‘Ad, great-grandson of Shem, son of Noah\n Anthony Davis (born 1993), American basketball player\n Antonio Davis (born 1968), American basketball player\n A. D. Loganathan (1888–1949), officer of the Indian National Army\n A. D. Whitfield (born 1943), American football player\n A. D. Winans (born 1936), American poet, essayist, short story writer and publisher\n A.D., nickname of Adrian Peterson (born 1985), American football player\n\nPlaces\n AD, ISO 3166-1 country for Andorra \n Abu Dhabi, capital of the United Arab Emirates\n AD, herbarium code for the State Herbarium of South Australia\n\nProfessions\n Art director, for a magazine or newspaper\n Assistant director, a film or television crew member\n Athletic director, the administrator of an athletics program\n\nScience and technology\n\nBiology and medicine\n Addison's disease, an endocrine disorder\n Adenovirus, viruses of the family Adenoviridae\n Alzheimer's disease, a neurodegenerative disease\n Anaerobic digestion, processes by which microorganisms break down biodegradable material\n Anti-diarrheal, medication which provides symptomatic relief for diarrhea\n Approximate digestibility, an index measure of the digestibility of animal feed\n Atopic dermatitis, form of skin inflammation\n Atypical depression, a type of depression\n Autosomal dominant, a classification of genetic traits\n Autonomic dysreflexia, a potential medical emergency\n\nChemistry\n Adamantyl, abbreviated \"Ad\" in organic chemistry\n Sharpless asymmetric dihydroxylation, a type of organic chemical reaction\n\nComputing\n .ad, the top level domain for Andorra\n Administrative distance, a metric in routing\n Active Directory, software for the management of Microsoft Windows domains\n Administrative domain, a computer networking facility\n Analog-to-digital converter, a type of electronic circuit\n Automatic differentiation, a set of computer programming techniques to speedily compute derivatives\n AD16, the hexadecimal number equal to decimal number 173\n\nMathematics\n Adjoint representation of a Lie group, abbreviated \"Ad\" in mathematics\n Axiom of determinacy, a set theory axiom\n\nPhysics\n Antiproton Decelerator, a device at the CERN physics laboratory\n Autodynamics, a physics theory\n\nOther uses in science and technology\n Active disassembly, a technology supporting the cost-effective deconstruction of complex materials\n\nTransportation\n AD, IATA code for:\nAir Paradise, a defunct Indonesian airline\n Azul Brazilian Airlines\n Airworthiness Directive, an aircraft maintenance requirement notice\n\nOther uses\n ʿĀd, an ancient Arab tribe, mentioned in the Quran\n Aggregate demand, in macroeconomics\n Anno Diocletiani, an alternative year numbering system\n United States Academic Decathlon, a high school academic competition\n\nSee also\n\n Anno Domini (disambiguation)\nBC (disambiguation)\nDomino (disambiguation)\nDominus (disambiguation)"
        ],
        [
         "19",
         "d_0001051",
         "Ananke (disambiguation)",
         "Ananke is a deity in Greek mythology. Ananke may also refer to:\n\nAnanke (moon), a moon of Jupiter\nAnanke group, a group of satellites of Jupiter that follow similar orbits to Ananke\n\"Ananke\", a short story by Stanisław Lem from Tales of Pirx the Pilot\nCosmopterix ananke, a moth of family Cosmopterigidae"
        ],
        [
         "20",
         "d_0001178",
         "Asimov (disambiguation)",
         "Isaac Asimov (1920–1992) was a writer.\n\nAsimov may also refer to:\n\nPeople \n\n Stanley Asimov, Isaac Asimov's brother.\n Eric Asimov, Isaac Asimov's nephew.\nPlaces\nAsimov (crater), an impact crater on Mars, named after Isaac Asimov\n5020 Asimov, an asteroid named after Isaac Asimov\n\nOther\nAsimov (surname)\nAsimov's Science Fiction, an American science fiction magazine named after Isaac Asimov\nAsimov's SF Adventure Magazine, a short-lived American science fiction magazine named after Isaac Asimov\nIsaac Asimov Awards, four separate awards established in honor of Isaac Asimov\n\nSee also\nASIMO\nAzimov, Russian last name"
        ],
        [
         "21",
         "d_0001181",
         "Arian (disambiguation)",
         "Arianism is a nontrinitarian Christological doctrine.\n\nArian may also refer to:\n\nPertaining to Arius\n A follower of Arius, a Christian presbyter in the 3rd and 4th century\nArian controversy, several controversies which divided the early Christian church\nArian fragment, Arian palimpsest\n\nPeople\n\nGroups of people\n Arians or Areians, ancient people living in Ariana (origin of the modern name Iran)\n Aryan, a term associated with the Proto-Indo-Iranians\n Aryan race, the racial concept\n An inhabitant of Aria (today's Herat, Afghanistan), used by the ancient and medieval Greeks (as Ἄρ(ε)ιοι/Ar(e)ioi) and Romans (as Arii)\n\nGiven name\nArian Asllani (born 1983), American rapper known as Action Bronson\nArian Bimo (born 1959), Albanian footballer\nArian Çuliqi, Albanian television director and screenwriter\nArian Foster (born 1986), American football player\nArian Hametaj (born 1957), Albanian footballer\nArián Iznaga, Cuban Paralympian sprinter\nArian Kabashi (born 1996), Kosovan footballer\nArian Kabashi (born 1997), Swedish footballer\nArlan Lerio (born 1976), Filipino boxer\nArian Leviste (born 1970), American electronic music artist, producer, and DJ\nArian Moayed (born 1980), Iranian-born American actor and theater producer\nArian Moreno (born 2003), Venezuelan footballer\n\nSurname\nArian is a surname that originated in Ancient Persia\n\nArman Arian (born 1981), Iranian author, novelist and researcher\nAsher Arian (1938–2010), American political scientist\nAsma Arian, German-Qatari human rights activist\nLaila Al-Arian (born 1980s), American broadcast journalist\nSami Al-Arian (born 1958), Palestinian-American civil rights activist\nPraskovia Arian (1864–1949) Russian and Soviet writer and feminist\nBruce Arians (born 1952), American football coach and former player\nJake Arians (born 1978), American football player\n\nOther\n Arian (band), a pop band in Iran\n Arian (newspaper), an Iranian newspaper since 1914\n Arian, an outsider's name for a member of the Polish Brethren\n Arian, a person born under the constellation Aries (astrology)\n\nSee also\n Arian Kartli, ancient Georgian country\n Al-Arian, an Arab village in northern Israel\n Aaryan, a given name and surname\n Ariane (disambiguation), the French spelling of Ariadne, a character in Greek mythology\n Ariann Black, Canadian-American female magician\n Ariano (disambiguation)\n Arien (disambiguation)\n Arius (disambiguation)\n Ariyan A. Johnson\n Arrian, Greek historian\n Aryan (name)\n Ghamar Ariyan"
        ],
        [
         "22",
         "d_0001272",
         "Amphibian (disambiguation)",
         "An amphibian is a member of the class Amphibia of ectothermic, tetrapod vertebrates\n\nAmphibian may also refer to:\nAmphibian (comics), two superheroes from Marvel Comics\n\"Amphibian\" (song), by Björk\nAmphibious aircraft, an aircraft that can operate from water or land\nLoening OL or Loening Amphibian, an amphibious biplane built for the US Army Air Corps and Navy\nMark IV Amphibian, a type of World War II period British rebreather\n\nSee also\n Amphibia (disambiguation)\n Amphibious (disambiguation)"
        ],
        [
         "23",
         "d_0001430",
         "Bach (disambiguation)",
         "Johann Sebastian Bach (1685–1750) was a German composer of the Baroque period.\n\nBach may also refer to:\n\nPeople\n Bach (surname)\n Bach family, a noted family in music\n Bach (actor), stage name of French actor, singer and music hall performer Charles-Joseph Pasquier (1882–1953)\n Sebastian Bach (born 1968), stage name of Canadian heavy metal singer Sebastian Bierk\n King Bach, American actor, comedian, and Internet personality\n Bill Bachrach (1879–1959), American swim coach known as \"Bach\"\n Joel Sirkis (1561–1640), Polish posek and halakhist, known as \"the Bach\"\n P. D. Q. Bach (1807–1742), a fictitious composer invented by musical satirist Peter Schickele\n Nigel Bach, the nom de plume of Tom Fanslau, the creator of the Bad Ben series\n\nPlaces\n Bach, Austria, a municipality in Reutte\n Bach, Lot, a commune in France\n Bach an der Donau, a town in Regensburg, Bavaria, Germany\n Bäch, a settlement of the Freienbach municipality in Schwyz, Switzerland\n Bäch railway station, in Freienbach, Switzerland\n Bach, Michigan, US, an unincorporated community\n Bach Ice Shelf, on Alexander Island, Antarctica\n Bach quadrangle, on the planet Mercury\n Bach (crater), on the planet Mercury\n 1814 Bach, an asteroid\n\nRadio stations\n WBQK, a radio station licensed to West Point, Virginia, US, known as Bach FM\n WLTT, a defunct radio station formerly licensed to Carolina Beach, North Carolina, US, known as Bach FM from 2011 to 2013\n\nOther uses\n Bach Gesellschaft, an 1850 society for publishing J.S. Bach's complete works\n Bach (journal), an academic journal of Baroque music\n BACH motif, a sequence of notes\n Bach (New Zealand), a modest holiday home or beach house\n Brown Association for Cooperative Housing, in Providence, Rhode Island, United States\n Bach Aircraft, an aircraft manufacturer from 1927 to 1931\n Bach-Werke-Verzeichnis (abbreviated BWV), a catalogue of compositions by J.S. Bach\n Quarry Bach, a slate quarry near Cilgerran, Wales\n\nSee also\n Bache (disambiguation)\n Bach House (disambiguation)\n Batch (disambiguation)\n Bạch, a Vietnamese surname\n Bachs, a municipality in the canton of Zürich, Switzerland"
        ],
        [
         "24",
         "d_0001471",
         "Big Dipper (disambiguation)",
         "The Big/Great Dipper is the American English term for the seven brightest stars of Ursa Major (The Plough in British English).\n\nBig Dipper also may refer to:\n\nEntertainment\n Big Dipper (Battersea Park), a wooden roller coaster operating in Battersea Park, London, England, from 1951 until 1972\n Big Dipper (Blackpool), a wooden roller coaster at Blackpool Pleasure Beach, England\n Big Dipper (Geauga Lake), a wooden roller coaster formerly at the now defunct Geauga Lake Park in Ohio, US\n Big Dipper (Luna Park Sydney), a wooden roller coaster operating at Luna Park Sydney, Australia from 1935 until 1981\n Big Dipper (Michigan's Adventure), a steel roller coaster in Michigan, US\n Cyclone (Dreamworld), a steel roller coaster which operated as Big Dipper at Luna Park Sydney, Australia from 1995 to 2001\n\nSport\n Wilt Chamberlain (1936–1999), American basketball player\n Robert DiPierdomenico (born 1958), Australian rules footballer\n Chris Duncan (born 1981), American baseball player\n\nMusic\n Big Dipper (band), a 1980s-1990s Boston alternative-rock band\n Big Dipper, professional name of American rapper Dan Stermer.\n Big Dipper (album), a 2003 album by Drop Trio\n The Great Dipper (album), a 2015 album by Roy Kim\n Big Dipper (Elton John song), a 1978 song by Elton John\n \"Big Dipper\", a song by Jethro Tull from their 1976 album Too Old to Rock 'n' Roll: Too Young to Die!\n \"Big Dipper\", a song by Built to Spill from their 1994 album There's Nothing Wrong with Love\n \"Big Dipper\", a song by Cracker from their 1996 album The Golden Age (Cracker album)\n \"Big Dipper\", a song by Death Grips from their 2014 album The Powers That B\n\nOther uses\n Big Dipper Ice Arena, in Fairbanks, Alaska\n\nSee also\n Beidou (disambiguation), Chinese equivalent of the asterism\n Little Dipper (disambiguation)\n Starry Plough (disambiguation)"
        ],
        [
         "25",
         "d_0001556",
         "Bell (disambiguation)",
         "A bell is a percussion instrument, usually cup-shaped.\n\nBell may also refer to:\n\nSound and music\n\n Bell (wind instrument), a part of a wind instrument\n Bell cymbal, a type of cymbal, tending to be thick and uniformly so, and small\n Bell effect, a musical technique\n Cymbal bell, the most central part of a cymbal\n\nSignals\n Bell, a signal from an engine order telegraph, a communications device used on a ship or submarine\n Alarm bell, used to alert people of a fire or burglary detected or, as part of a traditional alarm clock, to awaken or remind\n Church bell, indicating when to go to church\n Doorbell, a signaling device to alert residents to visitors\n Division bell, used in a parliament to call members to a vote\n Last call bell, a signal that a bar is closing soon\n School bell, a signal used for transitions during a school day\n Ship's bell, a signal for marking time on a ship\n\nPeople\n Bell (surname), a list of people with the surname Bell\n Alexander Graham Bell (1847–1922), Scottish-Canadian-American inventor, teacher, engineer, and scientist, son of Alexander Melville Bell\n John Stewart Bell or J. S. Bell (1928–1990), Northern Irish physicist and the originator of Bell's theorem in quantum physics\n bell hooks, pen name of Gloria Jean Watkins (1952–2021), American author, academic, and activist\n\nPlaces\n\nAfrica\n Bell, Eastern Cape, a South African town\n Port Bell, Lake Victoria, Uganda\n\nAustralia \n Bell, New South Wales\n Bell, Queensland\n\nCanada\n Bell Island (Newfoundland and Labrador), Newfoundland and Labrador\n Bell Peninsula, Nunavut\n Bell River (Quebec), a tributary of Matagami Lake, then Nottaway River flowing in Abitibi-Témiscamingue and in Nord-du-Québec, in Quebec, in Canada\n\nEurope\n Bell, Mayen-Koblenz, Germany, a municipality\n Bell, Rhein-Hunsrück, Germany, a municipality\n Bell End, UK\n\nUnited States\n Bell, California\n Bell, Florida\n Bell, Illinois\n Bell, Oklahoma\n Bell, Wisconsin\n Bell Canyon, California\n Bell City, Missouri\n Bell County, Kentucky\n Bell County, Texas\n Bell Township, Pennsylvania (disambiguation)\n\nOther places\n Bell (crater), a crater on the Moon\n Bell Creek (disambiguation)\n\nArt, entertainment, and media\n Bell (fictional currency), in the game Animal Crossing\n Bell Fibe TV, an IP-based television service offered in Ontario and Quebec\n\nBuildings\n Bell (St. Paul's Churchyard), a historical bookseller in London\n Bell Centre, a stadium in Montreal, Quebec, Canada\n Bell Laboratories Building, an historic building in Manhattan, New York\n Bell Lightbox, a skyscraper in Toronto, Ontario, Canada\n Bell Sensplex, a four-pad ice facility in the city of Ottawa, Ontario, Canada\n Bell Sports Complex, a sports facility in Brossard, Quebec, Canada\n Campus Bell, headquarters of Bell Canada, on Nuns' Island in Montreal, Canada\n\nBusinesses\n\nPublic houses\n Bell Inn, Enfield, London, England\n The Bell, City of London, England\n The Bell Inn, Aldworth, Berkshire, England\n The Bell Inn, Long Hanborough, Oxfordshire, England\n The Bell Inn, Nottingham, England\n\nTelecommunications\n Alcatel-Lucent Shanghai Bell\n Bell Atlantic, the name of the Bell Operating Company serving the mid-Atlantic US, merged in 2000 with GTE to form Verizon\n BCE Inc., formerly Bell Canada Enterprises, a telecommunications holding company in Canada\n Bell Aliant, a telecommunications subsidiary of Bell Canada\n Bell Canada, a telecommunications subsidiary of BCE Inc.\n Bell Internet, an internet service provider and subsidiary of Bell Canada \n Bell Media, a media subsidiary of BCE Inc.\n Bell MTS, a telecommunications subsidiary of Bell Canada\n Bell Mobility, a wireless network subsidiary of Bell Canada\n Bell Satellite TV, a satellite television service and subsidiary of Bell Canada\n Bell Communications Research, Inc., a research & development organization, originally a joint subsidiary of the Regional Bell Operating Companies, since renamed to Telcordia Technologies, Inc. and now a subsidiary of Ericsson\n Bell Labs, a research & development organization founded by AT&T, now owned by Nokia\n Bell System, the organization that provided telephone service in the United States until 1984\n Bell Telephone Company, founded in 1877 by the family of Alexander Graham Bell\n Illinois Bell, the name of the Bell Operating Company serving Illinois\n Indiana Bell, the Bell Operating Company serving Indiana\n Michigan Bell, the subsidiary of AT&T serving the state of Michigan\n Mountain Bell, the name of the Bell Operating Company serving the US Rocky Mountain region\n Nevada Bell, the Bell System's telephone provider in Nevada\n New Jersey Bell, (1904–1983)\n Northwestern Bell, the name of the Bell Operating Company serving the North Central and Northwestern US\n Ohio Bell, the Bell Operating Company serving most of Ohio\n Pacific Bell, the name of the Bell System's telephone operations in California\n Regional Bell Operating Company, any of the phone companies spun off from AT&T in 1984\n South Central Bell, the name of the Bell Operating Company serving the South-Central US\n Southern Bell, the name of the Bell Operating Company serving the Southeastern US\n Southwestern Bell, the name of the Bell Operating Company serving Kansas, Missouri, Oklahoma, and Texas\n Wisconsin Bell, (1984–1999)\n\nOther business\n Bell Aircraft, an aircraft manufacturer of the United States\n Bell Helicopter, an American rotorcraft manufacturer\n Bell ID, a software company based in The Netherlands\n Bell Records, a record label\n Bell Sports Inc., a helmet manufacturer\n Bell's Brewery, based in Michigan\n\nMathematics, science and technology\n Bell, the body of a jellyfish\n Bell character, in computing, a device control code\n Bell number, in mathematics\n Bell polynomials, in mathematics\n Bell state, in quantum information science\n Diving bell, a cable-suspended underwater airtight chamber\n\nTransportation\n\nRail\n Bell (METRORail station), Houston, Texas, United States\n Bell railway station, Melbourne, Australia\n Bell railway station, New South Wales, Australia\n\nSea\n SS Empire Bell, a Swedish collier (bulk cargo ship) launched in 1930\n USS Bell, either of two U.S. Navy ships\n\nOther forms of transportation\n Bell (cyclecar), a British three-wheeled cyclecar made in 1920 by W.G. Bell of Rochester, Kent\n Bell tailslide, an aerobatic maneuver\n\nOther uses\n Bell (typeface), a typeface designed in 1788 by Richard Austin\n Bell Challenge, a WTA Tour Tier III tennis tournament held in Quebec\n Bell High School (disambiguation)\n Bell House (disambiguation)\n Bell Lake (disambiguation)\n Bell pepper\n\nSee also\n Bel (disambiguation)\n Bell, Book & Candle (disambiguation)\n Belle (disambiguation)\n Bells (disambiguation)\n The Bell (disambiguation)\n The Bells (disambiguation)\n Justice Bell (disambiguation)\n Glockenspiel (disambiguation)"
        ],
        [
         "26",
         "d_0001566",
         "Battle of Adrianople (disambiguation)",
         "The Battle of Adrianople (378 CE), in which Gothic rebels defeated the Eastern Roman Empire, was the main battle of the Gothic War (376–382).\n\nBattle of Adrianople may also refer to:\nBattle of Adrianople (324), a battle in which Constantine the Great defeated Licinius in a Roman civil war\nSiege of Adrianople (378), an unsuccessful siege by the Goths following the Battle of Adrianople\nBattle of Adrianople (718), a battle between an alliance of Bulgarians and Byzantines against the Umayyad Caliphate, during the Siege of Constantinople (717–718)\nBattle of Adrianople (813), a successful Bulgarian siege of the Byzantine city\nBattle of Adrianople (914), a battle between Bulgarians and Byzantines\nBattle of Adrianople (972), a battle between Byzantines and Kievan Rus' led by Sviatoslav I of Kiev\nBattle of Adrianople (1003), a battle between Bulgarians and Byzantines\nBattle of Adrianople (1094), part of the revolt of Constantine Diogenes (pretender) and his Cuman allies\nBattle of Adrianople (1205), part of the Fourth Crusade, in which the Bulgarians defeated the Crusaders\nBattle of Adrianople (1226), part of the revolt of Theodore Komnenos Doukas\nBattle of Adrianople (1254), in which the Byzantines defeated the Bulgarians\nBattle of Adrianople (1305), a battle between the Byzantines and the Catalan Company\nBattle of Adrianople (1355), a battle between the Byzantines and the Serbs led by Stefan Dušan\nBattle of Adrianople (1365), in which the Ottoman Empire took the city from the Byzantine Empire\nBattle of Adrianople (1829), in which the Russians seized the city from the Ottoman Empire\nSiege of Adrianople (1912–1913), in which the Bulgarians took the city from the Ottomans in the First Balkan War\nSiege of Adrianople (1913)\n\nSee also\n Adrianople\nBattle of Tzirallum, a 313 CE battle in which Licinius defeated Maximinus Daia in a Roman civil war"
        ],
        [
         "27",
         "d_0001592",
         "Bisexual (disambiguation)",
         "Bisexuality better known as bisexual, in human sexuality, describes a person that is sexually attracted to persons of both the same sex and persons of the opposite sex.\n\nBisexual may also refer to:\nBisexual characteristics, having an ambiguous sexual identity (e.g. epicenity or androgyny)\nA bisexual flower (monoicy), in botany, one that possesses both male (pollen-producing) and female (seed-producing) parts\nA bisexual plant (monoecy), in botany, having separate male and female cones or flowers on the same plant\nDioecy, in biology, a species that has members of two different distinct sexes (e.g. humans), opposed to unisexual (only one sex present, always females)\nThe Bisexual, a 2018 British-American comedy-drama television series\n\nSee also\nBy-Sexual, a Japanese visual kei punk rock band from Osaka"
        ],
        [
         "28",
         "d_0001594",
         "Bay (disambiguation)",
         "A bay is an area of water bordered by land on three sides.\n\nBay, Bays or baying may also refer to:\n\nPlaces\n\nChina \n Bay County or Baicheng County, Aksu Prefecture, Xinjiang Uyghur Autonomous Region\n\nFrance \n Bay, Haute-Saône, a commune\n\nPhilippines \n Bay, Laguna, a municipality\n Bay River\n\nSomalia \n Bay, Somalia\n\nUnited Kingdom \n Morecambe Bay, the largest intertidal bay in England\n\nUnited States \n Bay, Arkansas\n Bay, Springfield, Massachusetts, a neighborhood\n Bay, Missouri\n Bay County, Florida\n Bay County, Michigan\n Bays, Kentucky\n Bays, Ohio\n Chesapeake Bay, an estuary in the District of Columbia, Maryland, Delaware, and Virginia\n Jamaica Bay, in Queens, New York\n San Francisco Bay, a shallow estuary in the U.S. state of California\n San Francisco Bay Area, or simply the Bay Area\n\nAnimals and plants\n\nAnimals\n Bay (horse), a color of the hair coats of some horses\n Baying, a kind of howling made by canines\n\nPlants\n Bay laurel, the evergreen laurel tree species Laurus nobilis\n Bay leaf, the aromatic leaves of several species of the Laurel family\n Rose bay, a common name for Rhododendron maximum\n\nArchitecture and interior design\n Bay (architecture), a module in classical or Gothic architecture\n Bay, the name in English of a ken, a Japanese unit of measure and proportion\n Bay window, a window space projecting outward from the main walls of a building and forming a bay in a room\n Bay (shelving), a basic unit of library shelving\n\nArts, entertainment, and media\n\nRadio stations\n Bay Radio (Malta), a radio station located in Malta\n Bay Radio (Spain), a radio station serving the Valencian Community in Spain\n Heart North Lancashire & Cumbria, formerly The Bay, a radio station in North West England\n Hot Radio, originally operating as The Bay 102.8, a radio station in Dorset, England, \n Swansea Bay Radio, a radio station in South Wales\n WZBA, a classic rock radio station, operating as 100.7 The Bay, in Westminster, Maryland\n\nOther arts, entertainment, and media\n The Bay (film), a 2012 American found footage horror film\n The Bay (web series), a soap opera web series that premiered in 2010\n \"The Bay\", a 2011 single by Metronomy\n The Bay (TV series), a British crime drama\n Bays (album), a 2015 album by Fat Freddy's Drop\n\nBusinesses\n Bank of Ayudhya, a Thai commercial bank (Stock symbol: BAY)\n Bay Networks, a network hardware vendor acquired by Nortel Networks in 1998\n Bay Trading Company, a retailer of woman's clothes in the UK\n Hudson's Bay (retailer) or The Bay, a chain of department stores in Canada\n\nTransport\n Baia Mare Airport in Baia Mare, Romania\n Bay platform, a dead-end platform at a railway station which has through lines\n Bay station, a subway station in Toronto\n Bay, the space enclosed by a set of struts on a biplane (see )\n Loading bay, a synonym for loading dock\n\nPeople \n Bay (chancellor), a royal scribe to an ancient Egyptian ruler\n Bay (surname)\n Bay Buchanan (born 1948), prominent conservative political commentator\n\nOther uses\n Bay (cloth), a coarse woolen cloth similar to Baize but lighter in weight and with shorter pile.\nDrive bay, an area for adding hardware in a computer\n Sick bay, nautical term for the location in a ship that is used for medical purposes\n The Bay School of San Francisco, a private high school\n Substation bay, an interconnection of equipment in an electrical substation\n\nSee also\n Bay Area (disambiguation)\n Bay breeze (disambiguation)\n Bay Bridge (disambiguation)\n Bay City (disambiguation)\n Bay School (disambiguation)\n Bay Street (disambiguation)\n Bay Township (disambiguation)\n Baye (disambiguation)\n Bae (disambiguation)\n Bays (disambiguation)\n Bey (disambiguation)\n eBay"
        ],
        [
         "29",
         "d_0001596",
         "B52 (disambiguation)",
         "The B-52 is an American strategic bomber aircraft.\n\nB-52 or B52 may also refer to:\n The B-52's, an American new wave band\n The B-52's (album)\n B52 (New York City bus), a bus line in Brooklyn, New York\n B52 (chess opening), a chess opening based on the Sicilian Defence\n B-52 (cocktail)\n B-52 (hairstyle) or beehive, a hairstyle\n B-52 Memorial Park, a park within the Orlando International Airport, Florida\n Volvo B52 engine, a group of Volvo engines\n Nora B-52, a Serbian self-propelled howitzer\n HLA-B52, an HLA-B serotype\n Bundesstraße 52, a federal highway in Germany\n B52, route number for Kings Highway in Australia\n B-52, a coded reference to Mao Zedong in Project 571\n B-52, a pennant number of the Argentinian fast transport ship ARA Hércules (B-52)"
        ],
        [
         "30",
         "d_0001654",
         "Blowfish (disambiguation)",
         "Blowfish are species of fish in the family Tetraodontidae.\n\nBlowfish may also refer to:\n\n Porcupinefish, belonging to the family Diodontidae\n Blowfish (cipher), an encryption algorithm\n Blowfish (company), an American erotic goods supplier\n The Blowfish, a satirical newspaper at Brandeis University\n Lexington County Blowfish, a baseball team\n Vice President Blowfish, a character in the animated series Adventure Time episode \"President Porpoise Is Missing!\"\n\nSee also\n Hootie & the Blowfish, an American rock band"
        ],
        [
         "31",
         "d_0001690",
         "Billion (disambiguation)",
         "Billion is a name for a large number. It may refer specifically to:\n\n 1,000,000,000 (, one thousand million), the short scale definition\n 1,000,000,000,000 (, one million million), the long scale definition\n\nBillion may also refer to:\n\nFilm and TV\n Billions (TV series), a Showtime series\n Billions (film), a 1920 silent comedy\n Mr. Billion, a 1977 film by Jonathan Kaplan\n\nMusic\n \"Billions\" a 2023 song by Caroline Polachek, from the album Desire, I Want to Turn Into You\n \"Billions\", a 2017 song by Russell Dickerson, from the album Yours\n \"Billion\", a 1996 song by Cardiacs, from the album Sing to God\n\nOther\n Billion (company), a Taiwanese modem manufacturer\n Jack Billion (1939–2023), American politician\n\nSee also\n Long and short scales\n Names of large numbers\n Billion laughs, an XML parser vulnerability\n Golden billion, a Russian term for the wealthy people of the developed world\n Billon (disambiguation)\n BN (disambiguation)"
        ],
        [
         "32",
         "d_0001730",
         "Barrel (disambiguation)",
         "A barrel is a cylindrical container, traditionally made with wooden material.\n\nBarrel may also refer to:\n\n BARREL (Balloon Array for RBSP Relativistic Electron Losses), a NASA mission\n Barrel (album), a 1970 album by Lee Michaels\n Barrel (horology), a watch component\n Barrel (unit), several units of volume\n Barrel (wine), for fermenting or ageing wine\n Barrel (fastener), a simple hinge consisting of a barrel and a pivot\n Gun barrel\n the venturi of a carburetor\n a component of a clarinet\n a component of a snorkel\n a tank in Harry Turtledove's books; see Victoria: An Empire Under the Sun\n the outside of a low voltage DC connector\n \"The Barrel\", a song by Aldous Harding from her 2019 album Designer\n\nSee also\n Barrel roll (disambiguation)\n \n Barrell, a surname\n Barrow (disambiguation)\n Beryl (disambiguation)\n Keg\n\nsl:Sod"
        ],
        [
         "33",
         "d_0001803",
         "British Open (disambiguation)",
         "The British Open is the Open Championship men's golf tournament.\n\nBritish Open may also refer to:\n British Open (ballroom), the dancing competitions of the Blackpool Dance Festival\n British Open (darts), a darts tournament\n Women's British Open of golf\n British Open Show Jumping Championships\n British Open (snooker), an annual tournament which was originally run from 1980 until 2004 before it was revived in 2021.\n British Open Squash Championships\n British Open (tennis) or Wimbledon Championships (informally known as The Championships, Wimbledon)\n British Open Wheelchair Championships, a wheelchair tennis tournament that Nimrod Bichler has coached some participants of"
        ],
        [
         "34",
         "d_0001946",
         "BCE (disambiguation)",
         "BCE is an abbreviation meaning Before Common Era, an alternative to the use of BC.\n\nBCE, B.C.E. or bce may also refer to:\n Bachelor of Civil Engineering\n Banco Central del Ecuador\n Basic Chess Endings, a book by Reuben Fine\n BCE Inc., formerly Bell Canada Enterprises\n BCE Place, Toronto, Canada, later Brookfield Place\n Bracknell railway station, Berkshire, UK, code\n Bhagalpur College of Engineering\n Entity-control-boundary, an architectural pattern used in software design\n\nSee also"
        ],
        [
         "35",
         "d_0002116",
         "Bell curve (disambiguation)",
         "The bell curve is typical of the normal distribution.\n\nBell curve may also refer to:\n\n Gaussian function, a specific kind of function whose graph is a bell-shaped curve\n The Bell Curve, a 1994 book by Richard J. Herrnstein and Charles Murray\n Bell curve grading, a method of evaluating scholastic performance"
        ],
        [
         "36",
         "d_0002122",
         "Bladder (disambiguation)",
         "The bladder (or urinary bladder) is an organ that collects urine for excretion in animals.\n\nBladder may also refer to:\n\nBiology\n Artificial urinary bladder, in humans\n Gallbladder, which stores bile for digestion\n Pig bladder, urinary bladder of a domestic pig, with many human uses\n Swim bladder, in bony fishes, an internal organ that helps to control buoyancy (homologous to lungs)\n Urinary bladder (Chinese medicine)\n\nTechnology\n Air bladder effect, a special effect used in filmmaking\n Fuel bladder, which stores fuels or other industrial liquids\n Hydration system, sometimes known as a bladder\n Pneumatic bladder, an old technology with many industrial applications\n Waterskin, a traditional container for transporting water\n\nGeography\n Bladder Lake, a lake in Minnesota\n\nSee also"
        ],
        [
         "37",
         "d_0002161",
         "Boomer (disambiguation)",
         "Boomer, or baby boomer, is a child born between 1946 and 1964.\n\nBoomer may refer to:\n\nPeople \n Boomers (Oklahoma settlers), two groups of settlers\n Boomer (surname)\n Boomer (nickname)\n\nPlaces \n Boomer Township, Pottawattamie County, Iowa\n Boomer Township, Wilkes County, North Carolina\n Boomer, Missouri\n Boomer, West Virginia, a census-designated place\n Boomer Lake, an artificial reservoir in Stillwater, Oklahoma\n Boomer Island (Tasmania), Australia\n\nAnimals \n An adult male kangaroo, nicknamed \"boomer\" in Australia\n An alternate name for the mountain beaver\n A colloquial name for the American red squirrel\n The greater prairie chicken, a type of grouse native to North America\n Marc Maron's cat\n\nCharacters\n\nComics \n Owen Mercer, the current Captain Boomerang in the DC Comics universe, nicknamed \"Boomer\"\n Rotor Walrus, a character from Sonic the Hedgehog, nicknamed \"Boomer\" in early issues\n Tabitha Smith, a Marvel Comics comic book superhero, formerly called Boomer\n Boomer, a canine character, Poncho's best friend, in Pooch Café\n\nVideo games\n Boomers, a faction of xenophobic people in Fallout: New Vegas\n The Boomer, a recurring Special Infected in the Left 4 Dead series\n Boomers, heavily armored soldiers of the locust horde in the Gears of War series\n Boomer, a character in the Skylanders video game, known for wielding explosives enthusiastically\nBoomer, a playable clown character in the Ballz fighting game\nBoomer, a character that appeared in Super Mario RPG\nBoomer, a pixl in the game Super Paper Mario\nBoomer, a canine side-kick in Far Cry 5\nBoomer, a Bot in Rocket League\n\nTelevision \n Lieutenant Boomer, a character in the 1978 television series Battlestar Galactica\n Sharon Valerii, a character in the 2004 television series Battlestar Galactica, call-sign \"Boomer\"\n Dr. Jack \"Boomer\" Morrison, a character on the U.S. television show St. Elsewhere\n Boomer, an anthropomorphic tug boat from the 1989 TV series, Tugs\n Boomer (Bubblegum Crisis), a fictional synthetic life form in the anime series Bubblegum Crisis\n Boomer, the blond member of the Rowdyruff Boys, a trio of villains in the animated series The Powerpuff Girls\n Boomer Bledsoe, a member of Roger Klotz' gang in the animated series Doug\n Boomer, the title character, a dog, in the 1980 TV series Here's Boomer\n Boomer Parker, one of the twin protagonists of the American sitcom Pair of Kings\n Boomer, one of the main protagonists in the TV series Redakai: Conquer the Kairu\n Sue \"Boomer\" Jenkins, a character in the Australian drama series Wentworth\n Boomers (TV series), a 2014 BBC One television comedy series\n\nOthers \n Boomer, a woodpecker in the 1981 animated Disney film The Fox and the Hound\n Captain Boomer, a British whaling ship captain who appears briefly in Herman Melville's Moby-Dick\n Boomer, the redhead tomboy in Burger King Kids Club advertising\n Boomer, a monument statue by western artist Harold T. Holden, located in Enid, Oklahoma, dedicated in 1987\n Boomers, a tentative title for the role-playing game Rifts\n Coach Boomer, aka Sonic Boom; the coach in the 2005 film Sky High\n Boomer Badger, character from the National Wildlife Federation's Ranger Rick magazine\n\nSports\n\nTeams \n Australia men's national basketball team, officially nicknamed \"Australian Boomers\"\n Bulleen Boomers, a basketball club based in Bulleen, a north-eastern suburb of Melbourne, Victoria, Australia\n Calgary Boomers, a former professional association football team in Calgary, Alberta, Canada\n Melbourne Boomers, an Australian women's basketball club\n Schaumburg Boomers, a Frontier League baseball team based in Schaumburg, Illinois\n\nMascots \n Boomer (mascot), the mascot of the NBA's Indiana Pacers\n Boomer, mascot of the Missouri State University Bears\n Boomer, mascot of the Port Vale F.C., an association football (soccer) club\n Boomer Baller, mascot of the Kannapolis Cannon Ballers minor league baseball team \n Boomer the Bear, mascot of the Western Hockey League's Spokane Chiefs\n Boomer the Bulldog, mascot for Dean College's sports teams\n Boomer and Sooner, mascots for the University of Oklahoma's sports teams\n Buzz and Boomer, mascots of the Canadian Football League's  Winnipeg Blue Bombers\n\nIn the military \n A ballistic missile submarine in American naval slang\n VT-27, a US Navy training squadron nicknamed the \"Boomers\"\n\nOther uses\n The Boomers (band), a Canadian rock band from Ontario\n Boomers! Parks, a theme park / family entertainment center chain\n Boomer, a freeware pharmacokinetic modeling software\n\nSee also \n Boom (disambiguation)\n \n Boom Boom (disambiguation)"
        ],
        [
         "38",
         "d_0002167",
         "Bin Laden (disambiguation)",
         "Osama bin Laden (1957–2011) was a Saudi-born terrorist and the leader of al-Qaeda.\n\nbin Laden or Bin Laden may also refer to:\n\nPeople\nbin Laden family, Saudi business family\nGeneral Bin Laden, former Liberian warlord\nTom Adam alias Bin Laden, former Central African warlord\n\nOther uses\nOsama bin Laden (elephant), an elephant that killed at least 27 people in India from 2004 to 2006\n\"Bin Laden\" (song), a 2005 hip hop song by Immortal Technique and Mos Def\nbin Laden, a nickname for the 500 euro note\n\nArabic-language surnames"
        ],
        [
         "39",
         "d_0002262",
         "Bihar (disambiguation)",
         "Bihar is a state in India.\n\nBihar may also refer to:\n\nPlaces\n\nIndia\n Bihar Province, former colonial province in British India\n Bihar Subah, a Bihar-based Mughal imperial province\n Bihar Sharif, headquarters of Nalanda district, Bihar, India\n Bihar River, a border river of Palamu district, Jharkhand, India\n Bihar, Unnao, a village in Uttar Pradesh, India\n\nElsewhere\n Bihar County, a historic county of the Kingdom of Hungary\n Bihor County (Bihar County in Hungarian), a county of current-day Romania\n Bihar, the Hungarian name for Biharia Commune, Bihor County, Romania\n\nPeople\n Bihar (king), a khagan of the Khazars\n\nSee also \n Behar (disambiguation), a portion in the annual Jewish cycle of Torah reading\n Bihar al-Anwar, a hadith compilation by Allamah Majlisi\n Bihari (disambiguation)\n Bihor (disambiguation)\n Hajdú-Bihar, a county in Hungary\n Cooch Behar (disambiguation), a district in West Bengal\n Cooch Behar State, a former princely state in India"
        ],
        [
         "40",
         "d_0002317",
         "Court of appeals (disambiguation)",
         "A court of appeals is generally an appellate court.\n\nCourt of Appeals may refer to:\n\nIsraeli Military Court of Appeals\n (Italy)\nCourt of Appeals of the Philippines\nHigh Court of Appeals of Turkey\nCourt of Appeals (Vatican City)\n\nUnited States \nCourts of appeals\nCourt of Appeals for the Armed Forces\nCourt of Appeals for Veterans Claims\nCourt of Appeals for the Federal Circuit\nCourt of Appeals for the District of Columbia Circuit\nCourt of Appeals for the First Circuit\nCourt of Appeals for the Second Circuit\nCourt of Appeals for the Third Circuit\nCourt of Appeals for the Fourth Circuit\nCourt of Appeals for the Fifth Circuit\nCourt of Appeals for the Sixth Circuit\nCourt of Appeals for the Seventh Circuit\nCourt of Appeals for the Eighth Circuit\nCourt of Appeals for the Ninth Circuit\nCourt of Appeals for the Tenth Circuit\nCourt of Appeals for the Eleventh Circuit\nEmergency Court of Appeals\nTemporary Emergency Court of Appeals (defunct)\nAlabama Court of Appeals (existed until 1969)\nAlaska Court of Appeals\nArizona Court of Appeals\nArkansas Court of Appeals\nColorado Court of Appeals\nDistrict of Columbia Court of Appeals\nGeorgia Court of Appeals\nHawaii Intermediate Court of Appeals\nIdaho Court of Appeals\nIllinois Court of Appeals\nIndiana Court of Appeals\nIowa Court of Appeals\nKansas Court of Appeals\nKentucky Court of Appeals\nLouisiana Court of Appeals\nMaryland Court of Appeals\nMichigan Court of Appeals\nMinnesota Court of Appeals\nMississippi Court of Appeals\nMissouri Court of Appeals\nNebraska Court of Appeals\nNew Mexico Court of Appeals\nNew York Court of Appeals\nNorth Carolina Court of Appeals\nNorth Dakota Court of Appeals\nOhio Seventh District Court of Appeals\nOhio Eleventh District Court of Appeals\nOregon Court of Appeals\nSouth Carolina Court of Appeals\nTennessee Court of Appeals\nTexas Courts of Appeals\nFifth Court of Appeals\nUtah Court of Appeals\nCourt of Appeals of Virginia\nWashington Court of Appeals\nSupreme Court of Appeals of West Virginia\nWisconsin Court of Appeals\n\nSee also\n\nCourt of Appeal (disambiguation)\nCourt of Criminal Appeal (disambiguation)\nAppeal\nState court (United States)#Nomenclature\nList of legal topics\nFederal Court of Appeals (disambiguation)"
        ],
        [
         "41",
         "d_0002322",
         "Car (disambiguation)",
         "A car is a wheeled motor vehicle used for transporting passengers.\n\nCar(s), CAR(s), or The Car(s) may also refer to:\n\nComputing\n C.a.R. (Z.u.L.), geometry software\n CAR and CDR, commands in LISP computer programming\n Clock with Adaptive Replacement, a page replacement algorithm\n Computer-assisted reporting\n Computer-assisted reviewing\n\nEconomics\n Capital adequacy ratio, a ratio of a bank's capital to its risk\n Cost accrual ratio, an accounting formula\n Cumulative abnormal return\n Cumulative average return, a financial concept related to the time value of money\n\nFilm and television\n Cars (franchise), a Disney/Pixar film series\n Cars (film), a 2006 computer-animated film from Disney and Pixar\n The Car (1977 film), an American horror film\n Car, a BBC Two television ident first aired in 1993 (see BBC Two '1991–2001' idents)\n The Car (1997 film), a Malayalam film\n \"The Car\" (The Assistants episode)\n\nLiterature\n Car (magazine), a British auto-enthusiast publication\n The Car (novel), a novel by Gary Paulsen\n\nMilitary\n Canadian Airborne Regiment, a Canadian Forces formation\n Colt Automatic Rifle, a 5.56mm NATO firearm\n Combat Action Ribbon, a United States military decoration\n U.S. Army Combat Arms Regimental System, a 1950s reorganisation of the regiments of the US Army\n Conflict Armament Research, a UK-based investigative organization that tracks the supply of armaments into conflict-affected areas\n\nMusic\n The Cars, an American band\n\nAlbums\n Peter Gabriel (1977 album) or Car\n The Cars (album), a 1978 album by The Cars\n Cars (soundtrack), the soundtrack to the 2006 film\n Cars (Now, Now Every Children album), 2009\n Cars, a 2011 album by Kris Delmhorst\n C.A.R. (album), a 2012 album by Serengeti\n The Car (album), a 2022 album by Arctic Monkeys\n\nSongs\n \"The Car\" (song), a song by Jeff Carson\n \"Cars\" (song), a 1979 single by Gary Numan\n \"Car\", a 1994 song by Built to Spill from There's Nothing Wrong with Love\n\nPaintings\n Cars (painting), a series of paintings by Andy Warhol\n The Car (Brack), a 1955 painting by John Brack\n\nPeople\n Car (surname)\n Cars (surname)\n\nPlaces\n Car, Azerbaijan, a village\n Čar, a village in Serbia\n Cars, Gironde, France, a commune\n Les Cars, Haute-Vienne, France, a commune\n Central African Republic\n Central Asian Republics\n Cordillera Administrative Region, Philippines\n County Carlow, Ireland, Chapman code\n\nScience\n Canonical anticommutation relation\n Carina (constellation)\n Chimeric antigen receptor, artificial T cell receptors\n Coherent anti-Stokes Raman spectroscopy\n Constitutive androstane receptor\n Cortisol awakening response, on waking from sleep\n Coxsackievirus and adenovirus receptor, a protein\n\nSports\n Carolina Hurricanes, a National Hockey League team\n Carolina Panthers, a National Football League team\n Club Always Ready, a Bolivian football club from La Paz\n Rugby Africa, formerly known as Confederation of African Rugby\n\nTransportation\n Railroad car\n Canada Atlantic Railway, 1879–1914\n Canadian Atlantic Railway, 1986–1994\n Carlisle railway station's station code\n Car, the cab of an elevator\n Car, a tram, streetcar, or trolley car\n\nOther uses\n\nCar\n Car (Greek myth), one or two figures in Greek mythology\n Car language, an Austroasiatic language of the Nicobar Islands in the eastern Indian Ocean\n car, ISO 639-2 and ISO 639-3 codes of the Carib language, spoken by the Kalina people of South America\n Cars (video game), a 2006 video game based on the film\n Chimeric antigen receptor, a type of protein engineered to give T cells the ability to target a specific protein\n\nCAR\n Canadian Aviation Regulations\n Avis Budget Group (Nasdaq: CAR)\n Central apparatus room, an equipment room found at broadcasting facilities\n Children of the American Revolution, a genealogical society\n  or Action Committee for Renewal, a political party of Togo\n Council for Aboriginal Reconciliation, body founded by the Australian Government in 1991 as part of its Reconciliation in Australia policy\n Council for Aboriginal Rights (1951–1980s), Victoria, Australia\n Criminal Appeal Reports, law reports in the United Kingdom\n\nSee also\n\n Carr (disambiguation)\n CARS (disambiguation)\n Le Car (disambiguation)\n iCar"
        ],
        [
         "42",
         "d_0002333",
         "Cone (disambiguation)",
         "A cone is a basic geometrical shape.\n\nCone may also refer to:\n\nMathematics\nCone (category theory)\nCone (formal languages)\nCone (graph theory), a graph in which one vertex is adjacent to all others\nCone (linear algebra), a subset of vector space\nMapping cone (homological algebra)\nCone (topology)\nConic bundle, a concept in algebraic geometry\nConical surface, generated by a moving line with one fixed point\nProjective cone, the union of all lines that intersect a projective subspace and an arbitrary subset of some other disjoint subspace\n\nComputing\nCone tracing, a derivative of the ray-tracing algorithm that replaces rays, which have no thickness, with cones\nSecond-order cone programming, a library of routines that implements a predictor corrector variant of the semidefinite programming algorithm\n\nAstronomy\nCone Nebula (also known as NGC 2264), an H II region in the constellation of Monoceros\nIonization cone, cones of material extending out from spiral galaxies\n\nEngineering and physical science\nAntenna blind cone, the volume of space that cannot be scanned by an antenna\nCarbon nanocones, conical structures which are made predominantly from carbon and which have at least one dimension of the order one micrometer or smaller\nCone algorithm identifies surface particles quickly and accurately for three-dimensional clusters composed of discrete particles\nCone beam reconstruction, a method of X-ray scanning in microtomography\nCone calorimeter, a modern device used to study the fire behavior of small samples of various materials in condensed phase\nCone clutch serves the same purpose as a disk or plate clutch\nCone of depression occurs in an aquifer when groundwater is pumped from a well\nCone penetration test (CPT), an in situ testing method used to determine the geotechnical engineering properties of soils\nCone Penetrometer apparatus, an alternative method to the Casagrande Device in measuring the Liquid Limit of a soil sample\nConical intersection of two potential energy surfaces of the same spatial and spin symmetries\nConical measure, a type of graduated laboratory glassware with a conical cup and a notch on the top to facilitate pouring of liquids\nConical mill (or conical screen mill), a machine used to reduce the size of material in a uniform manner\nConical pendulum, a weight (or bob) fixed on the end of a string (or rod) suspended from a pivot\nConical scanning, a system used in early radar units to improve their accuracy\nHelical cone beam computed tomography, a type of three-dimensional computed tomography\nHertzian cone, the cone of force that propagates through a brittle, amorphous or cryptocrystalline solid material from a point of impact\nNose cone, used to refer to the forwardmost section of a rocket, guided missile or aircraft\nPyrometric cone, pyrometric devices that are used to gauge time and temperature during the firing of ceramic materials\nRoller cone bit, a drill bit used for drilling through rock, for example when drilling for oil and gas\nSkid cone, a hollow steel or plastic cone placed over the sawn end of a log\nSpeaker cone, the cone inside a loudspeaker that moves to generate sound\nSpinning cone columns are used in a form of steam distillation to gently extract volatile chemicals from liquid foodstuffs\n\nBiology and medicine\nCone cell, in anatomy, a type of light-sensitive cell found along with rods in the retina of the eye\nCone dystrophy, an inherited ocular disorder characterized by the loss of cone cells\nCone snail, a carnivorous mollusc of the family Conidae\nCone-billed tanager (Conothraupis mesoleuca), a species of bird in the family Thraupidae\nConifer cone, a seed-bearing organ on conifer plants\nGrowth cone, a dynamic, actin-supported extension of a developing axon seeking its synaptic target\nWitch-hazel cone gall aphid (Hormaphis hamamelidis), a minuscule insect, a member of the aphid superfamily\nConing, a brain herniation in which the cerebellar tonsils move downwards through the foramen magnum\n\nGeography\nCinder cone, a steep conical hill of volcanic fragments around and downwind from a volcanic vent\nCone (hill), a hill in the shape of a cone which may or may not be volcanic in origin\nDirt cone, a feature of a glacier or snow patch, in which dirt forms a coating insulating the ice below\nParasitic cone (or satellite cone), a geographical feature found around a volcano\nShatter cone, rare geological feature in the bedrock beneath meteorite impact craters or underground nuclear explosions\nVolcanic cone, among the simplest volcanic formations in the world\nLambert conformal conic projection (LCC), a conic map projection, which is often used for aeronautical charts\n\nPlaces\nCone (Phrygia), a town and bishopric of ancient Phrygia\nCone, Michigan, an unincorporated community in Michigan\nCone, Texas, an unincorporated community in Crosby County, Texas, United States\nCone Islet, a small granite island in south-eastern Australia\nConical Range, a small mountain range in southwestern British Columbia, Canada, between Seymour Inlet and Belize Inlet\n\nPeople\n\nBonnie Ethel Cone (1907–2003), American educator and founder of the University of North Carolina at Charlotte\nCarin Cone (born 1940), American swimmer, Olympic medalist, world record holder, and gold medal winner from the Pan American Games\nChadrick Cone (born 1983), American football wide receiver for the Georgia Force in the Arena Football League\nCindy Parlow Cone (born 1978), American soccer player and coach\nCone sisters, Claribel Cone (1864–1929), and Etta Cone (1870–1949), collectors and socialites\nDavid Cone (born 1963), former Major League Baseball pitcher\nEdward T. Cone (1917–2004), American music theorist and composer\nFairfax M. Cone (1903–1977), director of the American Association of Advertising Agencies\nFred Cone (baseball) (1848–1909), pioneer professional baseball player\nFred Cone (American football) (born 1926), former professional American football running back\nFred P. Cone (1871–1948), twenty-seventh governor of Florida (Frederick Preston)\nJason McCaslin (born 1980), nicknamed Cone, bassist for the Canadian band Sum 41\nJames Hal Cone (born 1938), advocate of Black liberation theology\nJohn Cone (born 1974), American professional wrestling referee\nJohn J. Cone, the fourth Supreme Knight of the Knights of Columbus from 1898 to 1899\nMac Cone (born 1952), Canadian show jumper\nMartin Cone (1882–1963), 6th president of St. Ambrose College from 1930 to 1937\nMarvin Cone (1891–1965), American painter\nReuben Cone (1788–1851), pioneer and landowner in Atlanta, Georgia\nRobert W. Cone (1957-2016), major general in the United States Army, and Special Assistant to the Commanding General of TRADOC\nSara Cone Bryant (1873–?), author of various children's book in the early 20th century\nSpencer Cone Jones (1836–1915), President of the Maryland State Senate, Mayor of Rockville, Maryland\nSpencer Houghton Cone (1785–1855), American Baptist minister and president of the American and Foreign Bible Society\nTim Cone (born 1957), American basketball coach\n\nOther uses\nConical Asian hat, a simple style of straw hat originating in East and Southeast Asia\nIce cream cone, an edible container in which ice cream is served, shaped like an inverted cone open at its top\nSnow cone, a dessert usually made of crushed or shaved ice, flavored with sweet, usually fruit-flavored, brightly colored syrup\nTraffic cone, a brightly colored cone-shaped plastic object commonly used as a temporary traffic barrier or warning sign\nUSS Cone (DD-866), a Gearing-class destroyer of the United States Navy\nElizabethan collar or e-collar, a device to keep an animal from licking or biting itself\nTo locate an aircraft using a searchlight\nCone Mills Corporation, a textile manufacturer\n\nSee also \n\nKone (disambiguation)\nColne (disambiguation) (pronounced cone)\nKegel (disambiguation) (German/Dutch translation of cone)"
        ],
        [
         "43",
         "d_0002520",
         "Cow (disambiguation)",
         "Cow is a colloquial term for cattle, and the name of female cattle. \n\nCow, cows or COW may also refer to:\n\nScience and technology\n\n Cow, an adult female of several animals\n AT2018cow, a large astronomical explosion also known as \"The Cow\"\n Distillation cow, a piece of glassware that allows fractions to be collected without breaking vacuum\n Cell on wheels, a means of providing temporary mobile phone network coverage\n Copy-on-write, in computing\n\nLiterature\n Al-Baqara, the second and longest sura of the Qur'an, usually translated as \"The Cow\"\n Cows, a 1998 novel by Matthew Stokoe\n Cow, the English translation of Beat Sterchi's novel Blösch\n \"Cows!\", a children's story from the Railway Series book Edward the Blue Engine by the Reverend Wilbert Awdry\n \"Cows\", a poem from The Wiggles' album Big Red Car\n\nFilm and television  \n The Cow (1969 film), an Iranian film\n The Cow (1989 film), a Soviet animated short\n Cow (2009 film), a Chinese film\n Cow (2021 film), a British documentary film\n Cow (public service announcement), an anti texting while driving public service announcement\n Cows (TV series), a pilot and cancelled television sitcom produced by Eddie Izzard for Channel 4 in 1997\n Cow, a character in the animated series Cow and Chicken\n Computer Originated World, referring to the globe ID the BBC1 TV network used from 1985 to 1991\n\nMusic\n Cows (band), a noise rock band from Minneapolis\n Cow (demo), a 1987 EP by Inspiral Carpets\n \"Cows\", a song by Grandaddy from their 1992 album Prepare to Bawl\n\nOther uses\n Cerritos On Wheels, municipal bus service operated by the City of Cerritos, California, United States\n College of Wooster, liberal arts college in Wooster, Ohio, United States\n Cow Hell Swamp, Georgia, United States\n Crude oil washing\n Cows (ice cream), a Canadian ice cream brand\n Cowdenbeath railway station, Scotland, National Rail station code\n Cow, part of a cow-calf railroad locomotive set\n COWS, a mnemonic for Cold Opposite, Warm Same in the caloric reflex test\n\nSee also\n \n \n Vacas (English: Cows), a 1991 Spanish film\n Kráva (English: The Cow), a 1994 Czech film by Karel Kachyňa\n Sacred cow (disambiguation)\n Cow Run (disambiguation)\n Cowes\n Kow (disambiguation)"
        ],
        [
         "44",
         "d_0002539",
         "Cambridge (disambiguation)",
         "Cambridge is a city and the county town of Cambridgeshire, United Kingdom, famous for being the location of the University of Cambridge.\n\nCambridge may also refer to:\n\nPlaces\n\nAustralia\n Cambridge, Tasmania, a suburb of Hobart\n Town of Cambridge, a Western Australian local government area\n\nBarbados\n Cambridge, Barbados, a populated place in the parish of Saint Joseph, Barbados\n\nCanada\n Cambridge, Ontario, a city in Canada\n Cambridge (federal electoral district), a federal electoral district corresponding to Cambridge, Ontario\n Cambridge (provincial electoral district), a provincial electoral district corresponding to Cambridge, Ontario\n\n Cambridge, Hants County, Nova Scotia, a small community in Canada\n Cambridge, Kings County, Nova Scotia, a small community in Canada\n Cambridge Bay, Nunavut, a hamlet in Canada\n Cambridge Parish, New Brunswick, a civil parish in Canada\n Cambridge-Narrows, New Brunswick, a small community in Canada\n\nJamaica\n Cambridge, Jamaica\n\nMalta\n Cambridge Battery/Fort Cambridge, an artillery battery\n\nNew Zealand\n Cambridge, New Zealand\n\nSouth Africa\n Cambridge, Eastern Cape\n\nUnited Kingdom\n Cambridge (ward), Southport\n Cambridge, Gloucestershire\n Cambridge, Scottish Borders, a location in the United Kingdom\n Cambridge, West Yorkshire, a location in the United Kingdom\n Cambridge (UK Parliament constituency)\n County of Cambridge, another name for Cambridgeshire\n Cambridge Heath, a place in the London borough of Tower Hamlets\n Cambridge Town (disambiguation) or Camberley, Surrey, England\n\nUnited States\n Cambridge, Idaho\n Cambridge, Illinois\n Cambridge, Iowa\n Cambridge, Kansas\n Cambridge, Kentucky\n Cambridge, Maine\n Cambridge, Maryland\n Cambridge, Massachusetts\n Cambridge, Minnesota\n Cambridge, Missouri\n Cambridge, Nebraska\n Cambridge, New Hampshire, a township\n Cambridge, Delran, New Jersey\n Cambridge, Evesham, New Jersey\n Cambridge (town), New York\n Cambridge (village), New York\n Cambridge, Ohio\n Cambridge, Vermont\n Cambridge (village), Vermont\n Cambridge, Wisconsin\n Cambridge City, Indiana\n Cambridge Springs, Pennsylvania\n Cambridge Township, Ohio\n Cambridge Township, Henry County, Illinois\n Cambridge Township, Michigan\n Cambridge Township, Minnesota\n Cambridge Township, Pennsylvania\n\nExtraterrestrial\n 2531 Cambridge, a stony Main Belt asteroid in the Solar System\n\nPeople\n\nGiven name\n Cambridge Jones, British celebrity photographer\n\nSurnames\n Alice Cambridge (1762–1829), early Irish Methodist preacher\n Alyson Cambridge (born 1980), American operatic soprano and classical music, jazz, and American popular song singer\n Asuka Cambridge (born 1993), Japanese sprint athlete\n Barrington Cambridge (born 1957), Guyanese boxer\n Godfrey Cambridge (1933–1976), American stand-up comic and actor\n Richard Owen Cambridge (1717–1802), British poet\n\nTitles\n Duke of Cambridge\n\nBrands and enterprises\n Cambridge (cigarette)\n Cambridge Audio, a manufacturer of audio equipment\n Cambridge Glass, a glass company of Cambridge, Ohio\n Cambridge Scientific Instrument Company, founded 1881 in England \n Cambridge SoundWorks, a manufacturer of audio equipment\n Cambridge Theatre, a theatre in the West End of London\n Cambridge University Press\n\nEducational institutions\n Cambridge State University, US\n The Cambridge School (disambiguation)\n University of Cambridge, UK\n\nOther uses\n Cambridge (book), 2005 book by Tim Rawle\n Cambridge (ship), four merchant ships\n Austin Cambridge, motor car range produced by the Austin Motor Company\n Cambridge Circus (disambiguation)"
        ],
        [
         "45",
         "d_0002557",
         "Collectivism (disambiguation)",
         "Collectivism is the type of social organization.\n\nCollectivism may also refer to:\n Bureaucratic collectivism, a theory of class society which is used to describe the Soviet Union under Joseph Stalin\n Collectivist anarchism, a socialist doctrine in which the workers own and manage the production\n Collectivism (art), art which is created by a group of people rather than an individual\n Communitarianism, a political position that emphasizes the importance of the community over the individual or attempts to integrate the two\n Corporatism, a political ideology in which groups, rather than individuals, are the building blocks of society\n\nSee also \n Collective\n Collective farming, aka collectivization\n Collective security\n Collective ownership\n Collective agreement"
        ],
        [
         "46",
         "d_0002585",
         "Cantonese (disambiguation)",
         "Cantonese is a language originating in Canton, Guangdong.\n\nCantonese may also refer to:\n Yue Chinese, Chinese languages that include Cantonese\n Cantonese cuisine, the cuisine of Guangdong Province\n Cantonese people, the native people of Guangdong and Guangxi\n Lingnan culture, the regional culture often referred to as Cantonese culture\n\nSee also\n Cantonese Braille, a Cantonese-language version of Braille in Hong Kong\n Cantopop, Cantonese pop music"
        ],
        [
         "47",
         "d_0002592",
         "Cricket (disambiguation)",
         "Cricket is a bat-and-ball sport contested by two teams.\n\nCricket also commonly refers to:\n\n Cricket (insect)\n\nCricket(s) or The Cricket(s) may also refer to:\n\nFilm and television\n The Cricket (1917 film), a silent American drama film\n The Cricket (1980 film), an erotic drama film\n Crickets (film), a 2006 Japanese drama film\n Christine Blair or Cricket, a character in The Young and the Restless\n Cricket, a character in To Have and Have Not\n Matthew \"Rickety Cricket\" Mara, a character in It's Always Sunny in Philadelphia\n Cricket, a character in Big City Greens\n \"Cricket\", 5th episode of Servant (TV Series)\n\nLiterature\nCricket (magazine), an American literary magazine for children\nThe Cricket (magazine), a 1960s music magazine\n\"Chrząszcz\"  or \"Cricket\", a poem by Jan Brzechwa\n Cricket, a character in Fire on the Mountain\n\nMusic\n The Crickets, a rock and roll band formed by Buddy Holly\n Cricket (musical), a musical by Andrew Lloyd Webber and Tim Rice\n Crickets (album), by Joe Nichols, 2013\n Cricket (producer), Kosovo-Albanian record producer\n Crickets, a video album by Dredg released alongside their 2002 album El Cielo\n \"Crickets\", a song by Drop City Yacht Club\n \"Cricket\", a song by the Kinks from Preservation Act 1\n\nVehicles\nCricket (1914 automobile), an early American automobile\nPlymouth Cricket (disambiguation), two automobiles\nCricket-class coastal destroyer, a 1906 class of Royal Navy ships\nHMS Cricket (1915), an Insect-class gunboat\nHMS Cricket (shore establishment), Hampshire, 1943-1946\n\nOther uses \n Cricket (darts), a game using the standard 20-number dartboard\n Cricket (roofing), a ridge structure designed to divert water on a roof\n Cricket (series), a series of cricket video games\n Cricket (warning sound), an audible warning in the cockpits of commercial aircraft\n Cricket dolls, a talking doll released by Playmates Toys in 1986\n Cricket, North Carolina\n Cricket Wireless, wireless service provider, a subsidiary of AT&T Inc.\n Programmable Cricket, robotic toys\n Clicker or cricket, a noisemaker\n Cricket, a variation of the float breakdancing technique\n Cricket, a data collection software on top of RRDtool\n\nSee also \nColomban Cri-cri, a light plane\n Cricket House and Cricket Park, in Cricket St Thomas, England\nHMS Cricket, a list of Royal Navy ships\n Shturcite, a Bulgarian band, translated as The Crickets, or an album by them\n Tettigoniidae, known as katydids or bush-crickets\n Cricut, a cutting machine for home crafters"
        ],
        [
         "48",
         "d_0002618",
         "Christian (disambiguation)",
         "Christian most often refers to:\n\n Christians, people who follow or adhere to Christianity\n pertaining to Christianity\n\nChristian or The Christian may also refer to:\n\nArts and entertainment\n\nFilm\n Christian (1939 film), a Czech comedy film\n Christian (1989 film), a Danish drama film\n The Christian (1911 film), an Australian silent film\n The Christian (1914 film), an American silent film directed by Frederick A. Thomson\n The Christian (1915 film), a British silent film directed by George Loane Tucker \n The Christian (1923 film), an American silent film drama directed by Maurice Tourneur\n\nMusic\n \"Christian\" (song), a 1982 song by China Crisis \n Christian the Christian, a 2004 album by Lackthereof\n The Christians (band), a UK band from Liverpool, formed 1985\n\nOther uses in arts and entertainment\n The Christian, an 1897 novel and play by Hall Caine, adapted for Broadway\n The Christian (magazine), the title of several magazines\n Christian, the protagonist in John Bunyan's novel The Pilgrim's Progress\n\nPeople\n Christian (given name), including a list of people and fictional characters with the given name\n Christian (surname), including a list of people with the surname\n Christian of Clogher (d. 1138), saint and Irish bishop\n Christian of Oliva, a 13th-century Cistercian monk\n Christian (bishop of Aarhus), fl. c. 1060 to c. 1102\n Christian (footballer, born 1995) (Christian Savio Machado)\n Christian (footballer, born 2000) (Christian Roberto Alves Cardoso)\n Christian (singer) (Gaetano Cristiano Rossi, born 1949)\n Christian, ring name of professional wrestler Christian Cage (William Jason Reso, born November 30, 1973)\n Prince Christian (disambiguation)\n Christian I (disambiguation)\n Christian II (disambiguation)\n Christian III (disambiguation)\n\nOther uses\n Christian the lion (born 1969)\n Christian, West Virginia, a place in the U.S.\n\nSee also\n\n The Christians (disambiguation)\n St. Jude storm of 2013, also called Cyclone Christian\n Christian Doctrine in United States federal law, arising from G. L. Christian and Associates v. United States"
        ],
        [
         "49",
         "d_0002782",
         "Clayton, New York (disambiguation)",
         "The term Clayton, New York could refer to either of two locations on St. Lawrence River:\n\n Clayton (town), New York\n Clayton (village), New York\n\nSee also \n Clayton (disambiguation)"
        ]
       ],
       "shape": {
        "columns": 3,
        "rows": 55349
       }
      },
      "text/html": [
       "<div>\n",
       "<style scoped>\n",
       "    .dataframe tbody tr th:only-of-type {\n",
       "        vertical-align: middle;\n",
       "    }\n",
       "\n",
       "    .dataframe tbody tr th {\n",
       "        vertical-align: top;\n",
       "    }\n",
       "\n",
       "    .dataframe thead th {\n",
       "        text-align: right;\n",
       "    }\n",
       "</style>\n",
       "<table border=\"1\" class=\"dataframe\">\n",
       "  <thead>\n",
       "    <tr style=\"text-align: right;\">\n",
       "      <th></th>\n",
       "      <th>d_id</th>\n",
       "      <th>label</th>\n",
       "      <th>text</th>\n",
       "    </tr>\n",
       "  </thead>\n",
       "  <tbody>\n",
       "    <tr>\n",
       "      <th>0</th>\n",
       "      <td>d_0000026</td>\n",
       "      <td>Austin (disambiguation)</td>\n",
       "      <td>Austin is the capital of Texas in the United S...</td>\n",
       "    </tr>\n",
       "    <tr>\n",
       "      <th>1</th>\n",
       "      <td>d_0000041</td>\n",
       "      <td>Aberdeen (disambiguation)</td>\n",
       "      <td>Aberdeen is a city in Scotland.\\n\\nAberdeen ma...</td>\n",
       "    </tr>\n",
       "    <tr>\n",
       "      <th>2</th>\n",
       "      <td>d_0000055</td>\n",
       "      <td>Argument (disambiguation)</td>\n",
       "      <td>In logic and philosophy, an argument is an att...</td>\n",
       "    </tr>\n",
       "    <tr>\n",
       "      <th>3</th>\n",
       "      <td>d_0000068</td>\n",
       "      <td>Animal (disambiguation)</td>\n",
       "      <td>An animal is a multicellular, eukaryotic organ...</td>\n",
       "    </tr>\n",
       "    <tr>\n",
       "      <th>4</th>\n",
       "      <td>d_0000076</td>\n",
       "      <td>Asia Minor (disambiguation)</td>\n",
       "      <td>Asia Minor is an alternative name for Anatolia...</td>\n",
       "    </tr>\n",
       "    <tr>\n",
       "      <th>...</th>\n",
       "      <td>...</td>\n",
       "      <td>...</td>\n",
       "      <td>...</td>\n",
       "    </tr>\n",
       "    <tr>\n",
       "      <th>55344</th>\n",
       "      <td>d_6407444</td>\n",
       "      <td>Peer review (disambiguation)</td>\n",
       "      <td>Peer review may refer to:\\n\\n Clinical audit, ...</td>\n",
       "    </tr>\n",
       "    <tr>\n",
       "      <th>55345</th>\n",
       "      <td>d_6407478</td>\n",
       "      <td>Atonement (disambiguation)</td>\n",
       "      <td>Atonement is the concept of a person taking ac...</td>\n",
       "    </tr>\n",
       "    <tr>\n",
       "      <th>55346</th>\n",
       "      <td>d_6407506</td>\n",
       "      <td>Satyricon (disambiguation)</td>\n",
       "      <td>Satyricon is an ancient Roman novel attributed...</td>\n",
       "    </tr>\n",
       "    <tr>\n",
       "      <th>55347</th>\n",
       "      <td>d_6407529</td>\n",
       "      <td>Samuel Nicholson (disambiguation)</td>\n",
       "      <td>Samuel Nicholson (1743–1811) was an officer in...</td>\n",
       "    </tr>\n",
       "    <tr>\n",
       "      <th>55348</th>\n",
       "      <td>d_6407722</td>\n",
       "      <td>Sodom and Gomorrah (disambiguation)</td>\n",
       "      <td>Sodom and Gomorrah were infamous Biblical citi...</td>\n",
       "    </tr>\n",
       "  </tbody>\n",
       "</table>\n",
       "<p>55349 rows × 3 columns</p>\n",
       "</div>"
      ],
      "text/plain": [
       "            d_id                                label  \\\n",
       "0      d_0000026              Austin (disambiguation)   \n",
       "1      d_0000041            Aberdeen (disambiguation)   \n",
       "2      d_0000055            Argument (disambiguation)   \n",
       "3      d_0000068              Animal (disambiguation)   \n",
       "4      d_0000076          Asia Minor (disambiguation)   \n",
       "...          ...                                  ...   \n",
       "55344  d_6407444         Peer review (disambiguation)   \n",
       "55345  d_6407478           Atonement (disambiguation)   \n",
       "55346  d_6407506           Satyricon (disambiguation)   \n",
       "55347  d_6407529    Samuel Nicholson (disambiguation)   \n",
       "55348  d_6407722  Sodom and Gomorrah (disambiguation)   \n",
       "\n",
       "                                                    text  \n",
       "0      Austin is the capital of Texas in the United S...  \n",
       "1      Aberdeen is a city in Scotland.\\n\\nAberdeen ma...  \n",
       "2      In logic and philosophy, an argument is an att...  \n",
       "3      An animal is a multicellular, eukaryotic organ...  \n",
       "4      Asia Minor is an alternative name for Anatolia...  \n",
       "...                                                  ...  \n",
       "55344  Peer review may refer to:\\n\\n Clinical audit, ...  \n",
       "55345  Atonement is the concept of a person taking ac...  \n",
       "55346  Satyricon is an ancient Roman novel attributed...  \n",
       "55347  Samuel Nicholson (1743–1811) was an officer in...  \n",
       "55348  Sodom and Gomorrah were infamous Biblical citi...  \n",
       "\n",
       "[55349 rows x 3 columns]"
      ]
     },
     "execution_count": 7,
     "metadata": {},
     "output_type": "execute_result"
    }
   ],
   "source": [
    "disambiguation_df = pd.read_pickle(filepath_or_buffer='/Users/memento/Documents/Studium/Master/IR/IR_Praktikum/data/wikipedia/wikipedia-disambiguation-data.pkl.gzip', compression='gzip')\n",
    "disambiguation_df"
   ]
  },
  {
   "cell_type": "code",
   "execution_count": 10,
   "id": "a1e3e785",
   "metadata": {},
   "outputs": [
    {
     "data": {
      "application/vnd.microsoft.datawrangler.viewer.v0+json": {
       "columns": [
        {
         "name": "index",
         "rawType": "int64",
         "type": "integer"
        },
        {
         "name": "d_id",
         "rawType": "object",
         "type": "string"
        },
        {
         "name": "label",
         "rawType": "object",
         "type": "string"
        },
        {
         "name": "text",
         "rawType": "object",
         "type": "string"
        }
       ],
       "conversionMethod": "pd.DataFrame",
       "ref": "003ed857-aa83-4387-95c4-72c2471339b1",
       "rows": [
        [
         "746",
         "d_0000761",
         "Austin, Texas",
         "Austin ( ,  ) is the capital city of the U.S. state of Texas, as well as the seat and most populous city of Travis County, with portions extending into Hays and Williamson counties. Incorporated on December 27, 1839, it is the 10th most populous city in the United States, the 4th most populous city in Texas, and the 2nd most populous state capital city. It has been one of the fastest growing large cities in the United States since 2010. Downtown Austin and Downtown San Antonio are approximately  apart, and both fall along the Interstate 35 corridor. Austin is the southernmost state capital in the contiguous United States and is considered a Beta-level global city as categorized by the Globalization and World Cities Research Network."
        ],
        [
         "5194",
         "d_0005261",
         "North Texas Regional Airport",
         "North Texas Regional Airport / Perrin Field  is a county-owned airport in Grayson County, Texas between Sherman and Denison. Formerly Grayson County Airport, the airport was renamed in November 2007. Several buildings are occupied by businesses, Grayson County government agencies, and Grayson County College."
        ],
        [
         "6007",
         "d_0006077",
         "List of amphibians of Texas",
         "Seventy-two amphibian species are found in the American state of Texas, including forty-four species of frog and twenty-eight species of salamander. Four species are categorized as endangered by the International Union for Conservation of Nature:  the Barton Springs salamander, the Texas blind salamander, the black-spotted newt, and the Houston toad. Furthermore, Texas law protects several native amphibians, designating eleven species as threatened within the state and four others as endangered."
        ],
        [
         "6196",
         "d_0006268",
         "List of reptiles of Texas",
         "This list of reptiles of Texas includes the snakes, lizards, crocodilians, and turtles native to the U.S. state of Texas."
        ],
        [
         "6705",
         "d_0006782",
         "List of butterflies of Texas",
         "This is a list of Texas butterflies, all species of butterfly found in the state of Texas."
        ],
        [
         "7822",
         "d_0007908",
         "Minnesota Texas Adoption Research Project",
         "The Minnesota / Texas Adoption Research Project (MTARP) is a longitudinal research study that focuses on the consequences of variations in openness in adoption arrangements for all members of the adoptive kinship network: birthmothers, adoptive parents, and adopted children, and for the relationships within these family systems."
        ],
        [
         "7982",
         "d_0008071",
         "Texas Higher Education Coordinating Board",
         "The Texas Higher Education Coordinating Board (THECB) is an agency of the U.S. state of Texas's government that oversees all public post-secondary education in the state. It is headquartered at 1801 North Congress Avenue in Austin."
        ],
        [
         "8572",
         "d_0008667",
         "Texas Music Educators Association",
         "The Texas Music Educators Association (TMEA) is an organization of over 12,000 Texas school music educators.  Its stated goals are to provide professional growth opportunities, to encourage interaction among music education professionals, to foster public support for music in schools, to offer quality musical experiences for students, to cultivate universal appreciation and lifetime involvement in music, and to develop and maintain productive working relationships with other professional organizations."
        ],
        [
         "10556",
         "d_0010664",
         "Texas Senate, District 1",
         "District 1 of the Texas Senate is a senatorial district that serves all of Bowie, Camp, Cass, Delta, Franklin, Gregg, Harrison, Lamar, Marion, Morris, Panola, Red River, Rusk, Smith, Titus, Upshur, and Wood counties in the U.S. state of Texas. The current Senator from District 1 is Bryan Hughes."
        ],
        [
         "10565",
         "d_0010673",
         "Texas Senate, District 2",
         "District 2 of the Texas Senate is a senatorial district that serves all of Delta, Fannin, Hopkins, Hunt, Kaufman, Rains, Rockwall and Van Zandt counties, and portions of Dallas county in the U.S. state of Texas. The current Senator from District 2 is Bob Hall."
        ],
        [
         "10569",
         "d_0010677",
         "Texas Senate, District 3",
         "District 3 of the Texas Senate is a senatorial district that serves all of Anderson, Angelina, Cherokee, Hardin, Henderson, Houston, Jasper, Nacogdoches, Newton, Polk, Sabine, San Augustine, San Jacinto, Shelby, Trinity and Tyler counties, and portions of Montgomery and Smith counties in the U.S. state of Texas. The current Senator from District 3 is Robert Nichols."
        ],
        [
         "10576",
         "d_0010684",
         "Texas Senate, District 5",
         "District 5 of the Texas Senate is a senatorial district that serves Brazos, Freestone, Grimes, Leon, Limestone, Madison, Milam, Robertson, Walker and Williamson counties in the U.S. state of Texas. The current Senator from District 5 is Charles Schwertner."
        ],
        [
         "10607",
         "d_0010716",
         "Texas Senate, District 7",
         "District 7 of the Texas Senate is a senatorial district that serves portions of Harris and Montgomery counties in the U.S. state of Texas. The current Senator from District 7 is Paul Bettencourt."
        ],
        [
         "10612",
         "d_0010721",
         "Texas Senate, District 8",
         "District 8 of the Texas Senate is a senatorial district that currently serves portions of Collin and Dallas counties in the U.S. state of Texas. The current Senator from District 8 is Angela Paxton."
        ],
        [
         "10616",
         "d_0010725",
         "Texas Senate, District 9",
         "District 9 of the Texas Senate is a senatorial district that currently serves portions of Dallas and Tarrant counties in the U.S. state of Texas. The current Senator from District 9 is Kelly Hancock."
        ],
        [
         "10622",
         "d_0010731",
         "Texas Senate, District 10",
         "District 10 of the Texas Senate is a senatorial district that currently serves a portion of Tarrant county in the U.S. state of Texas. The current Senator from District 10 is Republican Phil King."
        ],
        [
         "10629",
         "d_0010738",
         "Texas Senate, District 11",
         "District 11 of the Texas Senate is a senatorial district that currently serves portions of Brazoria, Galveston and Harris counties in the U.S. state of Texas."
        ],
        [
         "10649",
         "d_0010758",
         "Texas Senate, District 12",
         "District 12 of the Texas Senate is a senatorial district that currently serves portions of Denton and Tarrant counties in the U.S. state of Texas."
        ],
        [
         "10652",
         "d_0010761",
         "Texas Senate, District 13",
         "District 13 of the Texas Senate is a senatorial district that currently serves portions of Fort Bend and Harris counties in the U.S. state of Texas."
        ],
        [
         "10656",
         "d_0010765",
         "Texas Senate, District 14",
         "District 14 of the Texas Senate is a senatorial district that currently serves Bastrop County and a portion of Travis county in the U.S. state of Texas."
        ],
        [
         "10664",
         "d_0010773",
         "Texas Senate, District 15",
         "District 15 of the Texas Senate is a senatorial district that currently serves a portion of Harris county in the U.S. state of Texas."
        ],
        [
         "10670",
         "d_0010779",
         "Texas Senate, District 16",
         "District 16 of the Texas Senate is a senatorial district that currently serves a portion of Dallas county in the U.S. state of Texas."
        ],
        [
         "10678",
         "d_0010787",
         "Texas Senate, District 17",
         "District 17 of the Texas Senate is a senatorial district that currently serves portions of Brazoria, Fort Bend, and Harris county in the U.S. state of Texas."
        ],
        [
         "10695",
         "d_0010804",
         "Texas Senate, District 18",
         "District 18 of the Texas Senate is a senatorial district that currently serves all of Aransas, Austin, Burleson, Calhoun, Colorado, DeWitt, Fayette, Goliad, Gonzales, Jackson, Lavaca, Lee, Matagorda, Refugio, Victoria, Waller, Washington and Wharton counties, western portions of Fort Bend and Harris counties, and an eastern precinct of Nueces County in the U.S. state of Texas."
        ],
        [
         "10734",
         "d_0010844",
         "Texas Senate, District 19",
         "District 19 of the Texas Senate is a senatorial district that currently serves all of Brewster, Crockett, Dimmitt, Edwards, Frio, Kinney, Maverick, Medina, Pecos, Real, Reeves, Terrell, Uvalde, Val Verde, Zavala counties, and portions of Bexar and Atascosa counties in the U.S. state of Texas. The district is currently served by Democrat Roland Gutierrez."
        ],
        [
         "10759",
         "d_0010869",
         "Valley Ranch, Irving, Texas",
         "Valley Ranch is a master-planned development in the Dallas, Texas suburb of Irving. The name comes from the fact that the land it sits upon was formerly a working cattle ranch and is located below a large ridge, and thus resembles a valley."
        ],
        [
         "10778",
         "d_0010888",
         "Texas Senate, District 20",
         "District 20 of the Texas Senate is a senatorial district that currently serves all of Brooks, Jim Wells counties and portions of Hidalgo and Nueces counties in the U.S. state of Texas."
        ],
        [
         "10787",
         "d_0010897",
         "Texas Senate, District 21",
         "District 21 of the Texas Senate is a senatorial district that currently serves all of Bee, Caldwell, Duval, Jim Hogg, Karnes, La Salle, Live Oak, McMullen, San Patricio, Starr, Webb, Wilson, and Zapata and portions of Atascosa, Bexar, Guadalupe, Hays, and Travis counties in the U.S. state of Texas."
        ],
        [
         "10800",
         "d_0010910",
         "Texas Senate, District 22",
         "District 22 of the Texas Senate is a senatorial district that currently serves all of Bosque, Ellis, Falls, Hill, Hood, Johnson, McLennan, Navarro, Somervell counties and portions of Tarrant county in the U.S. state of Texas."
        ],
        [
         "10806",
         "d_0010916",
         "Texas Senate, District 23",
         "District 23 of the Texas Senate is a senatorial district that currently serves a portion of Dallas county in the U.S. state of Texas. The current Senator from District 23 is Royce West."
        ],
        [
         "10816",
         "d_0010926",
         "Texas Senate, District 31",
         "District 31 of the Texas Senate is a senatorial district that currently serves Andrews, Armstrong, Bailey, Briscoe, Carson, Castro, Cochran, Collingsworth, Dallam, Deaf Smith, Donley, Ector, Gaines, Glasscock, Gray, Hall, Hansford, Hartley, Hemphill, Howard, Hutchinson, Lipscomb, Loving, Martin, Midland, Moore, Ochiltree, Oldham, Parmer, Potter, Randall, Roberts, Sherman, Swisher, Wheeler, Winkler and Yoakum counties in the U.S. state of Texas."
        ],
        [
         "10822",
         "d_0010932",
         "Texas Senate, District 30",
         "District 30 of the Texas Senate is a senatorial district that currently serves all of Archer, Clay, Cooke, Erath, Grayson, Jack, Montague, Palo Pinto, Parker, Wichita, Wise and Young counties, and portions of Collin and Denton counties in the U.S. state of Texas."
        ],
        [
         "10919",
         "d_0011029",
         "List of people from Amarillo, Texas",
         "This is a list of Amarilloans, notable current and former citizens of Amarillo, Texas."
        ],
        [
         "11068",
         "d_0011179",
         "List of companies in Amarillo, Texas",
         "This is a list companies in Amarillo, Texas that are headquartered or have a large presence in the city."
        ],
        [
         "11171",
         "d_0011284",
         "Texas State Highway Loop 1604",
         "Loop 1604 is the outer highway loop encircling San Antonio, Texas, spanning approximately . Originally constructed as a two-lane highway, the northern segment of the route, from US 90 in western San Antonio to Kitty Hawk Road in northeastern Bexar County, has been upgraded to a four-lane freeway. Loop 1604 is designated the Charles W. Anderson Loop in honor of former Bexar County Judge Charles W. Anderson, who died from cancer in 1964 after serving for 25 years."
        ],
        [
         "11897",
         "d_0012013",
         "Texas Senate, District 24",
         "District 24 of the Texas Senate is a senatorial district that currently serves all of Bandera, Bell, Blanco, Brown, Burnet, Callahan, Comanche, Coryell, Gillespie, Hamilton, Kerr, Lampasas, Llano, Mills, San Saba counties and portions of Taylor and Travis counties in the U.S. state of Texas."
        ],
        [
         "11909",
         "d_0012025",
         "Texas Senate, District 25",
         "District 25 of the Texas Senate is a senatorial district that currently serves all of Comal and Kendall counties, and portions of Bexar, Guadalupe, Hays, and Travis counties in the U.S. state of Texas."
        ],
        [
         "11916",
         "d_0012032",
         "Texas Senate, District 26",
         "District 26 of the Texas Senate is a senatorial district that currently serves a portion of Bexar county in the U.S. state of Texas."
        ],
        [
         "11931",
         "d_0012047",
         "Texas Senate, District 27",
         "District 27 of the Texas Senate is a senatorial district that currently serves all of Cameron, Kenedy, Kleberg and Willacy counties and a portion of Hidalgo county in the U.S. state of Texas."
        ],
        [
         "11935",
         "d_0012051",
         "Texas Senate, District 28",
         "District 28 of the Texas Senate is a senatorial district that currently serves Baylor, Borden, Childress, Coke, Coleman, Concho, Cottle, Crane, Crosby, Dawson, Dickens, Eastland, Fisher, Floyd, Foard, Garza, Hale, Hardeman, Haskell, Hockley, Irion, Jones, Kent, Kimble, King, Knox, Lamb, Lubbock, Lynn, McCulloch, Mason, Menard, Mitchell, Motley, Nolan, Reagan, Runnels, Schleicher, Scurry, Shackelford, Stephens, Sterling, Stonewall, Sutton, Terry, Throckmorton, Tom Green, Upton, Ward, and Wilbarger counties and a portion of Taylor county in the U.S. state of Texas."
        ],
        [
         "11950",
         "d_0012066",
         "Texas Senate, District 29",
         "District 29 of the Texas Senate is a senatorial district that currently serves all of Culberson, El Paso, Hudspeth, Jeff Davis, and Presidio counties in the U.S. state of Texas."
        ],
        [
         "13321",
         "d_0013451",
         "Farm Credit Bank of Texas",
         "Farm Credit Bank of Texas, part of the US Farm Credit System, serves as a wholesale lender and business-service provider to 14 local borrower-owned Farm Credit associations in Alabama, Louisiana, Mississippi, New Mexico and Texas."
        ],
        [
         "19068",
         "d_0019246",
         "University of Texas Longhorn Band",
         "The University of Texas Longhorn Band (LHB), also known as the Showband of the Southwest, is the marching band of The University of Texas at Austin. The Longhorn Band was founded in 1900 by distinguished professor of chemistry, Dr. Eugene P. Schoch. The band is currently under the direction of Dr. Cliff Croomes. The band performs at all in-state football games, for various Texas Longhorn Athletics teams, and at special pep rallies and parades throughout the year. The band includes about 375 students, all of whom must register for a year-round course offered by the Butler School of Music."
        ],
        [
         "19118",
         "d_0019296",
         "Deep in the Heart of Texas",
         "\"Deep in the Heart of Texas\" is an American popular song about Texas."
        ],
        [
         "19650",
         "d_0019831",
         "The Yellow Rose of Texas",
         "The Yellow Rose of Texas may refer to:"
        ],
        [
         "19794",
         "d_0019976",
         "List of breweries in Texas",
         "This is a list of breweries in Texas."
        ],
        [
         "21700",
         "d_0021895",
         "Einar Texas Ljungberg",
         "Einar \"Texas\" Ljungberg (26 August 1880 - 6 December 1974) was a Swedish Socialist politician."
        ],
        [
         "21709",
         "d_0021904",
         "List of Texas Rangers owners and executives",
         "The Texas Rangers Major League Baseball (MLB) franchise was established in 1961 as the Washington Senators, an expansion team awarded to Washington, D.C., after the old Washington Senators team of the American League moved to Minnesota and became the Twins. The new Senators remained in Washington through 1971. In 1972, the team moved to Arlington, Texas, where it became the Texas Rangers. In the franchise's history, 11 general managers (GMs) have been employed to oversee day-to-day operations."
        ],
        [
         "23145",
         "d_0023360",
         "Texas's 63rd House of Representatives district",
         "District 63 is a district in the Texas House of Representatives.  It was created in the 5th legislature (1853-1855)."
        ],
        [
         "23741",
         "d_0023961",
         "Moscow, Texas",
         "Moscow is an unincorporated community in Polk County, Texas, United States. As of the year 2000, the community had approximately 170 residents."
        ]
       ],
       "shape": {
        "columns": 3,
        "rows": 8865
       }
      },
      "text/html": [
       "<div>\n",
       "<style scoped>\n",
       "    .dataframe tbody tr th:only-of-type {\n",
       "        vertical-align: middle;\n",
       "    }\n",
       "\n",
       "    .dataframe tbody tr th {\n",
       "        vertical-align: top;\n",
       "    }\n",
       "\n",
       "    .dataframe thead th {\n",
       "        text-align: right;\n",
       "    }\n",
       "</style>\n",
       "<table border=\"1\" class=\"dataframe\">\n",
       "  <thead>\n",
       "    <tr style=\"text-align: right;\">\n",
       "      <th></th>\n",
       "      <th>d_id</th>\n",
       "      <th>label</th>\n",
       "      <th>text</th>\n",
       "    </tr>\n",
       "  </thead>\n",
       "  <tbody>\n",
       "    <tr>\n",
       "      <th>746</th>\n",
       "      <td>d_0000761</td>\n",
       "      <td>Austin, Texas</td>\n",
       "      <td>Austin ( ,  ) is the capital city of the U.S. ...</td>\n",
       "    </tr>\n",
       "    <tr>\n",
       "      <th>5194</th>\n",
       "      <td>d_0005261</td>\n",
       "      <td>North Texas Regional Airport</td>\n",
       "      <td>North Texas Regional Airport / Perrin Field  i...</td>\n",
       "    </tr>\n",
       "    <tr>\n",
       "      <th>6007</th>\n",
       "      <td>d_0006077</td>\n",
       "      <td>List of amphibians of Texas</td>\n",
       "      <td>Seventy-two amphibian species are found in the...</td>\n",
       "    </tr>\n",
       "    <tr>\n",
       "      <th>6196</th>\n",
       "      <td>d_0006268</td>\n",
       "      <td>List of reptiles of Texas</td>\n",
       "      <td>This list of reptiles of Texas includes the sn...</td>\n",
       "    </tr>\n",
       "    <tr>\n",
       "      <th>6705</th>\n",
       "      <td>d_0006782</td>\n",
       "      <td>List of butterflies of Texas</td>\n",
       "      <td>This is a list of Texas butterflies, all speci...</td>\n",
       "    </tr>\n",
       "    <tr>\n",
       "      <th>...</th>\n",
       "      <td>...</td>\n",
       "      <td>...</td>\n",
       "      <td>...</td>\n",
       "    </tr>\n",
       "    <tr>\n",
       "      <th>6344825</th>\n",
       "      <td>d_6400092</td>\n",
       "      <td>McFaddin and Texas Point National Wildlife Ref...</td>\n",
       "      <td>The McFaddin and Texas Point National Wildlife...</td>\n",
       "    </tr>\n",
       "    <tr>\n",
       "      <th>6345513</th>\n",
       "      <td>d_6400787</td>\n",
       "      <td>Ben Wheeler, Texas</td>\n",
       "      <td>Ben Wheeler is an unincorporated community in ...</td>\n",
       "    </tr>\n",
       "    <tr>\n",
       "      <th>6347788</th>\n",
       "      <td>d_6403085</td>\n",
       "      <td>Planet Texas</td>\n",
       "      <td>\"Planet Texas\" is a song written by John Andre...</td>\n",
       "    </tr>\n",
       "    <tr>\n",
       "      <th>6350459</th>\n",
       "      <td>d_6405785</td>\n",
       "      <td>Texas Department of Transportation</td>\n",
       "      <td>The Texas Department of Transportation (TxDOT ...</td>\n",
       "    </tr>\n",
       "    <tr>\n",
       "      <th>6350991</th>\n",
       "      <td>d_6406322</td>\n",
       "      <td>Concan, Texas</td>\n",
       "      <td>Concan is a small unincorporated community in ...</td>\n",
       "    </tr>\n",
       "  </tbody>\n",
       "</table>\n",
       "<p>8865 rows × 3 columns</p>\n",
       "</div>"
      ],
      "text/plain": [
       "              d_id                                              label  \\\n",
       "746      d_0000761                                      Austin, Texas   \n",
       "5194     d_0005261                       North Texas Regional Airport   \n",
       "6007     d_0006077                        List of amphibians of Texas   \n",
       "6196     d_0006268                          List of reptiles of Texas   \n",
       "6705     d_0006782                       List of butterflies of Texas   \n",
       "...            ...                                                ...   \n",
       "6344825  d_6400092  McFaddin and Texas Point National Wildlife Ref...   \n",
       "6345513  d_6400787                                 Ben Wheeler, Texas   \n",
       "6347788  d_6403085                                       Planet Texas   \n",
       "6350459  d_6405785                 Texas Department of Transportation   \n",
       "6350991  d_6406322                                      Concan, Texas   \n",
       "\n",
       "                                                      text  \n",
       "746      Austin ( ,  ) is the capital city of the U.S. ...  \n",
       "5194     North Texas Regional Airport / Perrin Field  i...  \n",
       "6007     Seventy-two amphibian species are found in the...  \n",
       "6196     This list of reptiles of Texas includes the sn...  \n",
       "6705     This is a list of Texas butterflies, all speci...  \n",
       "...                                                    ...  \n",
       "6344825  The McFaddin and Texas Point National Wildlife...  \n",
       "6345513  Ben Wheeler is an unincorporated community in ...  \n",
       "6347788  \"Planet Texas\" is a song written by John Andre...  \n",
       "6350459  The Texas Department of Transportation (TxDOT ...  \n",
       "6350991  Concan is a small unincorporated community in ...  \n",
       "\n",
       "[8865 rows x 3 columns]"
      ]
     },
     "execution_count": 10,
     "metadata": {},
     "output_type": "execute_result"
    }
   ],
   "source": [
    "test_words=['Jaguar', 'Hammer', 'Coke', 'Pope', 'Comic', 'Drink', 'Cat', 'Dwarf', 'Game', 'Texas']\n",
    "\n",
    "data_df = pd.read_pickle(filepath_or_buffer='/Users/memento/Documents/Studium/Master/IR/IR_Praktikum/data/wikipedia/wikipedia-text-data-no-disambiguation.pkl.gzip', compression='gzip')\n",
    "texas_docs = data_df[\n",
    "    data_df['label'].str.contains('Texas', case=False, regex=True, na=False) \n",
    "]\n",
    "\n",
    "texas_docs"
   ]
  },
  {
   "cell_type": "code",
   "execution_count": 11,
   "id": "fe9a9c02",
   "metadata": {},
   "outputs": [],
   "source": [
    "texas_docs.to_pickle(path='/Users/memento/Documents/Studium/Master/IR/IR_Praktikum/data/wikipedia/testdata/texas.pkl.gzip', compression='gzip')"
   ]
  }
 ],
 "metadata": {
  "kernelspec": {
   "display_name": ".env",
   "language": "python",
   "name": "python3"
  },
  "language_info": {
   "codemirror_mode": {
    "name": "ipython",
    "version": 3
   },
   "file_extension": ".py",
   "mimetype": "text/x-python",
   "name": "python",
   "nbconvert_exporter": "python",
   "pygments_lexer": "ipython3",
   "version": "3.13.3"
  }
 },
 "nbformat": 4,
 "nbformat_minor": 5
}

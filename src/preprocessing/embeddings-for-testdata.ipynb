{
 "cells": [
  {
   "cell_type": "code",
   "execution_count": 1,
   "id": "d19f0552",
   "metadata": {},
   "outputs": [
    {
     "name": "stderr",
     "output_type": "stream",
     "text": [
      "/Users/memento/Documents/Studium/Master/IR/IR_Praktikum/.env/lib/python3.13/site-packages/tqdm/auto.py:21: TqdmWarning: IProgress not found. Please update jupyter and ipywidgets. See https://ipywidgets.readthedocs.io/en/stable/user_install.html\n",
      "  from .autonotebook import tqdm as notebook_tqdm\n"
     ]
    }
   ],
   "source": [
    "import os\n",
    "import torch\n",
    "import numpy as np\n",
    "from sentence_transformers import SentenceTransformer, util\n",
    "from sklearn.cluster import KMeans\n",
    "from sklearn.cluster import HDBSCAN\n",
    "import pandas as pd\n",
    "from tqdm import tqdm\n",
    "\n",
    "model = SentenceTransformer(\"all-mpnet-base-v2\")\n"
   ]
  },
  {
   "cell_type": "code",
   "execution_count": 2,
   "id": "9f0408bf",
   "metadata": {},
   "outputs": [
    {
     "name": "stderr",
     "output_type": "stream",
     "text": [
      "0it [00:00, ?it/s]"
     ]
    },
    {
     "name": "stderr",
     "output_type": "stream",
     "text": [
      "451it [00:33, 13.54it/s]\n",
      "1295it [01:09, 18.66it/s]\n",
      "509it [00:35, 14.39it/s]\n",
      "480it [00:34, 13.79it/s]\n",
      "28012it [47:56,  9.74it/s]\n",
      "1577it [01:46, 14.82it/s]\n",
      "490it [00:37, 13.03it/s]\n",
      "1392it [01:32, 15.02it/s]\n",
      "8865it [22:36,  6.53it/s]\n"
     ]
    }
   ],
   "source": [
    "words=[ 'coke', 'comic', 'drink', 'dwarf', 'game', 'hammer', 'jaguar', 'pope', 'texas']\n",
    "\n",
    "for word in words:\n",
    "    doc_df = pd.read_pickle(filepath_or_buffer=f'/Users/memento/Documents/Studium/Master/IR/IR_Praktikum/data/wikipedia/testdata/{word}.pkl.gzip', compression='gzip')\n",
    "\n",
    "    all_docs = []\n",
    "    for index, row in tqdm(doc_df.iterrows()):\n",
    "        \n",
    "        embed_document=model.encode(row['text'])\n",
    "\n",
    "        all_docs.append({'d_id': row['d_id'], 'embedding': embed_document})\n",
    "        \n",
    "    df=pd.DataFrame(all_docs, columns=('d_id', 'embedding'))\n",
    "    \n",
    "    df.to_pickle(path=f'/Users/memento/Documents/Studium/Master/IR/IR_Praktikum/data/wikipedia/testdata/embedded/{word}_embeddings.pkl.gzip', compression='gzip')\n"
   ]
  },
  {
   "cell_type": "code",
   "execution_count": 3,
   "id": "829e7cfa",
   "metadata": {},
   "outputs": [
    {
     "name": "stderr",
     "output_type": "stream",
     "text": [
      "48547it [43:33, 18.58it/s]\n"
     ]
    }
   ],
   "source": [
    "word = 'cat'\n",
    "doc_df = pd.read_pickle(filepath_or_buffer=f'/Users/memento/Documents/Studium/Master/IR/IR_Praktikum/data/wikipedia/testdata/{word}.pkl.gzip', compression='gzip')\n",
    "\n",
    "all_docs = []\n",
    "for index, row in tqdm(doc_df.iterrows()):\n",
    "    \n",
    "    embed_document=model.encode(row['text'])\n",
    "\n",
    "    all_docs.append({'d_id': row['d_id'], 'embedding': embed_document})\n",
    "    \n",
    "df=pd.DataFrame(all_docs, columns=('d_id', 'embedding'))\n",
    "\n",
    "df.to_pickle(path=f'/Users/memento/Documents/Studium/Master/IR/IR_Praktikum/data/wikipedia/testdata/embedded/{word}_embeddings.pkl.gzip', compression='gzip')\n"
   ]
  }
 ],
 "metadata": {
  "kernelspec": {
   "display_name": ".env",
   "language": "python",
   "name": "python3"
  },
  "language_info": {
   "codemirror_mode": {
    "name": "ipython",
    "version": 3
   },
   "file_extension": ".py",
   "mimetype": "text/x-python",
   "name": "python",
   "nbconvert_exporter": "python",
   "pygments_lexer": "ipython3",
   "version": "3.13.3"
  }
 },
 "nbformat": 4,
 "nbformat_minor": 5
}
